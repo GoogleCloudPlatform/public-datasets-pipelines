{
 "cells": [
  {
   "cell_type": "markdown",
   "metadata": {
    "id": "7i8lsRFe2lu5"
   },
   "source": [
    "# Overview\n",
    "\n",
    "In this tutorial, we train a LSTM model to predict the number of non-emergency calls in San Francisco based on the call category (e.g. <em>Tree Maintenance</em>)."
   ]
  },
  {
   "cell_type": "code",
   "execution_count": 1,
   "metadata": {
    "id": "cFeLh7K7KI6B"
   },
   "outputs": [],
   "source": [
    "%%capture\n",
    "\n",
    "# Installing the required libraries:\n",
    "!pip install matplotlib pandas scikit-learn tensorflow pyarrow tqdm\n",
    "!pip install google-cloud-bigquery google-cloud-bigquery-storage"
   ]
  },
  {
   "cell_type": "code",
   "execution_count": 2,
   "metadata": {
    "id": "6_jTxerkMtkg"
   },
   "outputs": [],
   "source": [
    "import matplotlib.pyplot as plt\n",
    "import numpy as np\n",
    "import tensorflow as tf\n",
    "from google.cloud import bigquery\n",
    "from sklearn import metrics, preprocessing\n",
    "\n",
    "# Configurations\n",
    "%matplotlib inline"
   ]
  },
  {
   "cell_type": "markdown",
   "metadata": {
    "id": "2x4wG61omjBQ"
   },
   "source": [
    "### Authentication\n",
    "In order to run this tutorial successfully, we need to be authenticated first. \n",
    "\n",
    "Depending on where we are running this notebook, the authentication steps may vary:\n",
    "\n",
    "| Runner      | Authentiction Steps |\n",
    "| ----------- | ----------- |\n",
    "| Local Computer      |  Use a service account, or run the following command: <br><br>`gcloud auth login`    |\n",
    "| Colab   | Run the following python code and follow the instructions: <br><br>`from google.colab import auth` <br> `auth.authenticate_user()     `    |\n",
    "| Vertext AI (Workbench)   | Authentication is provided by Workbench       |"
   ]
  },
  {
   "cell_type": "code",
   "execution_count": 3,
   "metadata": {
    "id": "i7aszhgnkxuv"
   },
   "outputs": [
    {
     "name": "stdout",
     "output_type": "stream",
     "text": [
      "This notebook is not running on Colab.\n",
      "Please make sure to follow the authentication steps.\n"
     ]
    }
   ],
   "source": [
    "try:\n",
    "    from google.colab import auth\n",
    "\n",
    "    print(\"Authenticating in Colab\")\n",
    "    auth.authenticate_user()\n",
    "    print(\"Authenticated\")\n",
    "except:  # noqa\n",
    "    print(\"This notebook is not running on Colab.\")\n",
    "    print(\"Please make sure to follow the authentication steps.\")"
   ]
  },
  {
   "cell_type": "markdown",
   "metadata": {
    "id": "N7qEYK98Nx89"
   },
   "source": [
    "### Configurations\n",
    "\n",
    "Let's make sure we enter the name of our GCP project in the next cell."
   ]
  },
  {
   "cell_type": "code",
   "execution_count": 24,
   "metadata": {
    "id": "So_ed4wf0lKu"
   },
   "outputs": [
    {
     "name": "stdout",
     "output_type": "stream",
     "text": [
      "GCP_PROJECT is set to endromodal\n"
     ]
    }
   ],
   "source": [
    "# ENTER THE GCP PROJECT HERE\n",
    "GCP_PROJECT = \"endromodal\"\n",
    "print(f\"GCP_PROJECT is set to {GCP_PROJECT}\")\n",
    "\n",
    "# Just a list of few existing categories:\n",
    "sample_categories = [\n",
    "    \"Street and Sidewalk Cleaning\",\n",
    "    \"Encampments\",\n",
    "    \"Litter Receptacles\",\n",
    "    \"Tree Maintenance\",\n",
    "    \"Sewer Issues\",\n",
    "    \"Muni Service Feedback\",\n",
    "]"
   ]
  },
  {
   "cell_type": "markdown",
   "metadata": {},
   "source": [
    "### Helper Functions\n",
    "\n",
    "Helper functions needed in this notebook"
   ]
  },
  {
   "cell_type": "code",
   "execution_count": 29,
   "metadata": {},
   "outputs": [],
   "source": [
    "def create_input_output_datasets(timeseries: np.array, width: int = 5):\n",
    "    \"\"\"\n",
    "    Given a time series, create a matrix as the input\n",
    "    for the training and a vector as the output.\n",
    "    \"\"\"\n",
    "    data_x, data_y = [], []\n",
    "    for i in range(len(timeseries) - width - 1):\n",
    "        data_x.append(timeseries[i: (i + width), 0])\n",
    "        data_y.append(timeseries[i + width, 0])\n",
    "    return np.array(data_x), np.array(data_y)"
   ]
  },
  {
   "cell_type": "markdown",
   "metadata": {
    "id": "UXIitTXv7IEu"
   },
   "source": [
    "## Data Preparation"
   ]
  },
  {
   "cell_type": "markdown",
   "metadata": {
    "id": "LBLKdccfZzKu"
   },
   "source": [
    "### Query the Data"
   ]
  },
  {
   "cell_type": "code",
   "execution_count": 5,
   "metadata": {},
   "outputs": [],
   "source": [
    "QUERY = \"\"\"\n",
    "WITH\n",
    "  intermediate1 AS (\n",
    "  SELECT\n",
    "    DATE_DIFF(created_date, CURRENT_TIMESTAMP(), DAY) AS days_ago,\n",
    "    category,\n",
    "  FROM\n",
    "    `bigquery-public-data.san_francisco_311.311_service_requests`\n",
    "  WHERE\n",
    "    latitude > 35\n",
    "    AND longitude < -122 ),\n",
    "  intermediate2 AS (\n",
    "  SELECT\n",
    "    DIV(days_ago - MIN(days_ago) OVER(), 7) AS week,\n",
    "    category\n",
    "  FROM\n",
    "    intermediate1)\n",
    "SELECT\n",
    "  category,\n",
    "  week,\n",
    "  COUNT(*) AS count\n",
    "FROM\n",
    "  intermediate2\n",
    "GROUP BY\n",
    "  category,\n",
    "  week;\n",
    "\"\"\""
   ]
  },
  {
   "cell_type": "code",
   "execution_count": 6,
   "metadata": {},
   "outputs": [],
   "source": [
    "bqclient = bigquery.Client(project=GCP_PROJECT)\n",
    "dataframe = bqclient.query(QUERY).result().to_dataframe()"
   ]
  },
  {
   "cell_type": "markdown",
   "metadata": {
    "id": "_I8mnYhOBsnr"
   },
   "source": [
    "### Check the Dataframe\n",
    "\n"
   ]
  },
  {
   "cell_type": "code",
   "execution_count": 7,
   "metadata": {
    "id": "84lvVNg8odvS"
   },
   "outputs": [
    {
     "name": "stdout",
     "output_type": "stream",
     "text": [
      "(26022, 3)\n"
     ]
    },
    {
     "data": {
      "text/html": [
       "<div>\n",
       "<style scoped>\n",
       "    .dataframe tbody tr th:only-of-type {\n",
       "        vertical-align: middle;\n",
       "    }\n",
       "\n",
       "    .dataframe tbody tr th {\n",
       "        vertical-align: top;\n",
       "    }\n",
       "\n",
       "    .dataframe thead th {\n",
       "        text-align: right;\n",
       "    }\n",
       "</style>\n",
       "<table border=\"1\" class=\"dataframe\">\n",
       "  <thead>\n",
       "    <tr style=\"text-align: right;\">\n",
       "      <th></th>\n",
       "      <th>category</th>\n",
       "      <th>week</th>\n",
       "      <th>count</th>\n",
       "    </tr>\n",
       "  </thead>\n",
       "  <tbody>\n",
       "    <tr>\n",
       "      <th>0</th>\n",
       "      <td>Muni Employee Feedback</td>\n",
       "      <td>641</td>\n",
       "      <td>118</td>\n",
       "    </tr>\n",
       "    <tr>\n",
       "      <th>1</th>\n",
       "      <td>Muni Employee Feedback</td>\n",
       "      <td>689</td>\n",
       "      <td>97</td>\n",
       "    </tr>\n",
       "    <tr>\n",
       "      <th>2</th>\n",
       "      <td>Muni Service Feedback</td>\n",
       "      <td>638</td>\n",
       "      <td>71</td>\n",
       "    </tr>\n",
       "    <tr>\n",
       "      <th>3</th>\n",
       "      <td>Shared Spaces Violation</td>\n",
       "      <td>701</td>\n",
       "      <td>18</td>\n",
       "    </tr>\n",
       "    <tr>\n",
       "      <th>4</th>\n",
       "      <td>Muni Service Feedback</td>\n",
       "      <td>704</td>\n",
       "      <td>75</td>\n",
       "    </tr>\n",
       "  </tbody>\n",
       "</table>\n",
       "</div>"
      ],
      "text/plain": [
       "                  category  week  count\n",
       "0   Muni Employee Feedback   641    118\n",
       "1   Muni Employee Feedback   689     97\n",
       "2    Muni Service Feedback   638     71\n",
       "3  Shared Spaces Violation   701     18\n",
       "4    Muni Service Feedback   704     75"
      ]
     },
     "execution_count": 7,
     "metadata": {},
     "output_type": "execute_result"
    }
   ],
   "source": [
    "print(dataframe.shape)\n",
    "dataframe.head()"
   ]
  },
  {
   "cell_type": "code",
   "execution_count": 8,
   "metadata": {
    "id": "5VgmGUI_LBbT"
   },
   "outputs": [
    {
     "name": "stdout",
     "output_type": "stream",
     "text": [
      "Selected category: Tree Maintenance\n"
     ]
    }
   ],
   "source": [
    "CATEGORY = sample_categories[3]\n",
    "print(f\"Selected category: {CATEGORY}\")"
   ]
  },
  {
   "cell_type": "markdown",
   "metadata": {
    "id": "q2Xhrs_BaDex"
   },
   "source": [
    "### Prepare the Data for Training"
   ]
  },
  {
   "cell_type": "markdown",
   "metadata": {
    "id": "slkY8m4vrf3T"
   },
   "source": [
    "For the selected category above, we create a weekly time series based on number of calls that category has received in a given week:"
   ]
  },
  {
   "cell_type": "code",
   "execution_count": 9,
   "metadata": {
    "id": "GnTwrINN_1di"
   },
   "outputs": [
    {
     "name": "stdout",
     "output_type": "stream",
     "text": [
      "Length of the time series: 708\n"
     ]
    }
   ],
   "source": [
    "category_df = dataframe[dataframe[\"category\"] == CATEGORY]\n",
    "max_week = category_df[\"week\"].max()\n",
    "min_week = category_df[\"week\"].min()\n",
    "# Some weeks may have no data, in which case we will set the value to zero.\n",
    "category_timeseries = np.zeros(max_week - min_week + 1)\n",
    "for index, row in category_df.iterrows():\n",
    "    category_timeseries[row[\"week\"] - min_week] = row[\"count\"]\n",
    "category_timeseries = category_timeseries.reshape(-1, 1)\n",
    "print(f\"Length of the time series: {len(category_timeseries)}\")"
   ]
  },
  {
   "cell_type": "markdown",
   "metadata": {
    "id": "IlSMpnY_TF0X"
   },
   "source": [
    "We then normalize the time series to ensure all values are between 0 and 1."
   ]
  },
  {
   "cell_type": "code",
   "execution_count": 10,
   "metadata": {
    "id": "mVEW159yByz5"
   },
   "outputs": [],
   "source": [
    "scaler = preprocessing.MinMaxScaler(feature_range=(0, 1))\n",
    "nrm_timeseries = scaler.fit_transform(category_timeseries)"
   ]
  },
  {
   "cell_type": "markdown",
   "metadata": {
    "id": "YnymuBeST_jZ"
   },
   "source": [
    "We split the time series into two partitions for training and testing."
   ]
  },
  {
   "cell_type": "code",
   "execution_count": 11,
   "metadata": {
    "id": "hgAMYfVAS8Nc"
   },
   "outputs": [
    {
     "name": "stdout",
     "output_type": "stream",
     "text": [
      "Training Size: 566\n",
      "Test Size: 142\n"
     ]
    }
   ],
   "source": [
    "TRAIN_RATIO = 0.8\n",
    "train_size = int(len(nrm_timeseries) * TRAIN_RATIO)\n",
    "test_size = len(nrm_timeseries) - train_size\n",
    "train_timeseries = nrm_timeseries[0:train_size, :]\n",
    "\n",
    "test_timeseries = nrm_timeseries[train_size: len(nrm_timeseries), :]\n",
    "print(f\"Training Size: {len(train_timeseries)}\")\n",
    "print(f\"Test Size: {len(test_timeseries)}\")"
   ]
  },
  {
   "cell_type": "markdown",
   "metadata": {
    "id": "NW2bChBMVnZV"
   },
   "source": [
    "Next, we need to create an input matrix and an output vector from our normalized time series. Here is an example:\n",
    "\n",
    "Let's assume we have the following variables:\n",
    "```\n",
    "timeseries = [0.1, 0.2, 0.3, 0.4, 0.5, 0.6]\n",
    "width = 3\n",
    "```\n",
    "\n",
    "The matrix and the vector will then be:\n",
    "\n",
    "```\n",
    "matrix = [[0.1, 0.2, 0.3],\n",
    "          [0.2, 0.3, 0.4],\n",
    "          [0.3, 0.4, 0.5]]\n",
    "\n",
    "vector = [0.4, 0.5, 0.6]\n",
    "```\n",
    "\n",
    "The `width` can help us determine how many weeks in the time series we want to look back to make a prediction about the next week.\n",
    "\n",
    "In the example above, we want to predict a new entry by looking back at the previous 3 weeks.\n",
    "\n",
    "Let's create the input and output for both training and test time series."
   ]
  },
  {
   "cell_type": "code",
   "execution_count": 13,
   "metadata": {
    "id": "qx5TTnttGEDv"
   },
   "outputs": [],
   "source": [
    "# Determining how far back we want to look at\n",
    "# the data to make prediction about the next entry\n",
    "WEEKS_BACK = 3\n",
    "\n",
    "train_x, train_y = create_input_output_datasets(train_timeseries, WEEKS_BACK)\n",
    "test_x, test_y = create_input_output_datasets(test_timeseries, WEEKS_BACK)"
   ]
  },
  {
   "cell_type": "markdown",
   "metadata": {
    "id": "BVkOVYFqYwiZ"
   },
   "source": [
    "Finally, we need to reshape input with the  `[samples, time_steps, features]` dimensions where `time_steps = 1`."
   ]
  },
  {
   "cell_type": "code",
   "execution_count": 14,
   "metadata": {
    "id": "mibI4CpWGENY"
   },
   "outputs": [],
   "source": [
    "# reshape input to be [samples, time steps, features]\n",
    "train_x = np.reshape(train_x, (train_x.shape[0], 1, train_x.shape[1]))\n",
    "test_x = np.reshape(test_x, (test_x.shape[0], 1, test_x.shape[1]))"
   ]
  },
  {
   "cell_type": "markdown",
   "metadata": {
    "id": "JQUXlrp4NroU"
   },
   "source": [
    "## Train the Model\n",
    "\n",
    "Now that our data is prepared, we can build and train the model. Here is a simple LSTM model.\n",
    "\n",
    "We should not need a GPU to train this model since our training dataset is not too big.\n"
   ]
  },
  {
   "cell_type": "code",
   "execution_count": 15,
   "metadata": {
    "id": "9rIgZnLlS93y"
   },
   "outputs": [
    {
     "name": "stdout",
     "output_type": "stream",
     "text": [
      "Epoch 1/5\n",
      "562/562 [==============================] - 1s 907us/step - loss: 0.0026\n",
      "Epoch 2/5\n",
      "562/562 [==============================] - 0s 800us/step - loss: 0.0020\n",
      "Epoch 3/5\n",
      "562/562 [==============================] - 0s 792us/step - loss: 0.0015\n",
      "Epoch 4/5\n",
      "562/562 [==============================] - 0s 775us/step - loss: 0.0020\n",
      "Epoch 5/5\n",
      "562/562 [==============================] - 0s 782us/step - loss: 0.0016\n"
     ]
    }
   ],
   "source": [
    "model = tf.keras.Sequential()\n",
    "model.add(tf.keras.layers.LSTM(10, input_shape=(1, WEEKS_BACK)))\n",
    "model.add(tf.keras.layers.Dense(1))\n",
    "model.compile(loss=\"mean_squared_error\", optimizer=\"adam\")\n",
    "model.fit(train_x, train_y, epochs=5, batch_size=1, verbose=1);"
   ]
  },
  {
   "cell_type": "markdown",
   "metadata": {
    "id": "TJbWtW-BeHrl"
   },
   "source": [
    "## Evaluate the Model"
   ]
  },
  {
   "cell_type": "markdown",
   "metadata": {
    "id": "b6KE1e09b3LJ"
   },
   "source": [
    "With the trained model, we can create predictions for both training and test datasets and evaluate the results."
   ]
  },
  {
   "cell_type": "code",
   "execution_count": 16,
   "metadata": {
    "id": "lqI_CzHD85kU"
   },
   "outputs": [],
   "source": [
    "train_pred = model.predict(train_x)\n",
    "test_pred = model.predict(test_x)"
   ]
  },
  {
   "cell_type": "markdown",
   "metadata": {
    "id": "rxQahjTEcDm5"
   },
   "source": [
    "Since we previously normalized our time series, we need to inverse that step now that we have prediction results."
   ]
  },
  {
   "cell_type": "code",
   "execution_count": 17,
   "metadata": {
    "id": "G_yFFPlAFojf"
   },
   "outputs": [],
   "source": [
    "train_pred = scaler.inverse_transform(train_pred)\n",
    "train_y = scaler.inverse_transform([train_y])\n",
    "test_pred = scaler.inverse_transform(test_pred)\n",
    "test_y = scaler.inverse_transform([test_y])"
   ]
  },
  {
   "cell_type": "markdown",
   "metadata": {
    "id": "tLr1lyPIcSVa"
   },
   "source": [
    "Let's evaluate the results for both training and test datasets. We use the Root Mean Squared Error for both cases."
   ]
  },
  {
   "cell_type": "code",
   "execution_count": 23,
   "metadata": {
    "id": "WQ4c8C-4FikP"
   },
   "outputs": [
    {
     "name": "stdout",
     "output_type": "stream",
     "text": [
      "Train Score: 49.79 RMSE\n",
      "Test Score: 107.21 RMSE\n"
     ]
    }
   ],
   "source": [
    "train_score = np.sqrt(metrics.mean_squared_error(train_y[0], train_pred[:, 0]))\n",
    "print(f\"Train Score: {train_score:0.2f} RMSE\")\n",
    "\n",
    "test_score = np.sqrt(metrics.mean_squared_error(test_y[0], test_pred[:, 0]))\n",
    "print(f\"Test Score: {test_score:0.2f} RMSE\")"
   ]
  },
  {
   "cell_type": "markdown",
   "metadata": {
    "id": "1FTyz6HfdGf9"
   },
   "source": [
    "To plot the results, let's first shift both predictions to their right spot on the X-axis."
   ]
  },
  {
   "cell_type": "code",
   "execution_count": 19,
   "metadata": {
    "id": "3z0euEOFFiuP"
   },
   "outputs": [],
   "source": [
    "# shift train predictions for plotting\n",
    "train_pred_plot = np.empty_like(nrm_timeseries)\n",
    "train_pred_plot[:, :] = np.nan\n",
    "train_pred_plot[WEEKS_BACK: len(train_pred) + WEEKS_BACK, :] = train_pred\n",
    "\n",
    "# shift test predictions for plotting\n",
    "test_pred_plot = np.empty_like(nrm_timeseries)\n",
    "test_pred_plot[:, :] = np.nan\n",
    "test_pred_plot[\n",
    "    len(train_pred) + (WEEKS_BACK * 2) + 1: len(nrm_timeseries) - 1, :\n",
    "] = test_pred"
   ]
  },
  {
   "cell_type": "markdown",
   "metadata": {
    "id": "INaVbZTIdaag"
   },
   "source": [
    "Finally, we can plot the results of the prediction."
   ]
  },
  {
   "cell_type": "code",
   "execution_count": 20,
   "metadata": {
    "id": "gPSBSXt4Ftor"
   },
   "outputs": [
    {
     "data": {
      "image/png": "[encoded data removed]",
      "text/plain": [
       "<Figure size 1080x576 with 1 Axes>"
      ]
     },
     "metadata": {
      "needs_background": "light"
     },
     "output_type": "display_data"
    }
   ],
   "source": [
    "# plot baseline and predictions\n",
    "plt.figure(figsize=(15, 8))\n",
    "plt.style.use(\"tableau-colorblind10\")\n",
    "plt.plot(category_timeseries, label=\"Actual Data\")\n",
    "plt.plot(train_pred_plot, label=\"Training - Predicted\")\n",
    "plt.plot(test_pred_plot, label=\"Test - Predicted\")\n",
    "plt.legend(loc=\"upper left\")\n",
    "plt.title(f'Timeseries plot for \"{CATEGORY}\"')\n",
    "plt.show()"
   ]
  },
  {
   "cell_type": "markdown",
   "metadata": {
    "id": "QDyoiI6PsqaC"
   },
   "source": [
    "The result seems reasonable. As a practice, you may want to try another categoty or change the `weeks_back` parameter and see the performance of different models."
   ]
  }
 ],
 "metadata": {
  "colab": {
   "collapsed_sections": [],
   "name": "SF 311 - Prediction",
   "provenance": []
  },
  "kernelspec": {
   "display_name": "Python 3",
   "language": "python",
   "name": "python3"
  },
  "language_info": {
   "codemirror_mode": {
    "name": "ipython",
    "version": 3
   },
   "file_extension": ".py",
   "mimetype": "text/x-python",
   "name": "python",
   "nbconvert_exporter": "python",
   "pygments_lexer": "ipython3",
   "version": "3.8.2"
  }
 },
 "nbformat": 4,
 "nbformat_minor": 1
}
