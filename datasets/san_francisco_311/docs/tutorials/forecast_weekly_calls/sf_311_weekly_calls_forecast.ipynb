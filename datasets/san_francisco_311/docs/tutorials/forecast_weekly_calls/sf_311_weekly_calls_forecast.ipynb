{
  "cells": [
    {
      "cell_type": "markdown",
      "metadata": {
        "id": "7i8lsRFe2lu5"
      },
      "source": [
        "# Overview\n",
        "\n",
        "In this tutorial, we train a LSTM model to predict the number of non-emergency calls in San Francisco based on the call category (e.g. <em>Tree Maintenance</em>)."
      ]
    },
    {
      "cell_type": "code",
      "execution_count": 1,
      "metadata": {
        "id": "cFeLh7K7KI6B"
      },
      "outputs": [],
      "source": [
        "%%capture\n",
        "\n",
        "# Installing the required libraries:\n",
        "!pip install matplotlib pandas scikit-learn\n",
        "!pip install tensorflow pyarrow\n",
        "!pip install google-cloud-bigquery google-cloud-bigquery-storage"
      ]
    },
    {
      "cell_type": "code",
      "execution_count": 2,
      "metadata": {
        "id": "6_jTxerkMtkg"
      },
      "outputs": [],
      "source": [
        "import matplotlib.pyplot as plt\n",
        "import numpy as np\n",
        "import tensorflow as tf\n",
        "from google.cloud import bigquery\n",
        "from sklearn import preprocessing\n",
        "\n",
        "# Configurations\n",
        "%matplotlib inline"
      ]
    },
    {
      "cell_type": "markdown",
      "metadata": {
        "id": "N7qEYK98Nx89"
      },
      "source": [
        "### Configurations"
      ]
    },
    {
      "cell_type": "markdown",
      "source": [
        "Let's make sure we enter the name of our GCP project in the next cell."
      ],
      "metadata": {
        "id": "C19A83fWsb7k"
      }
    },
    {
      "cell_type": "code",
      "execution_count": 22,
      "metadata": {
        "id": "So_ed4wf0lKu",
        "colab": {
          "base_uri": "https://localhost:8080/"
        },
        "outputId": "53ee276c-fa51-4546-85cb-7f42cb015571"
      },
      "outputs": [
        {
          "output_type": "stream",
          "name": "stdout",
          "text": [
            "GCP_PROJECT is set to YOUR-GCP-PROJECT\n"
          ]
        }
      ],
      "source": [
        "# ENTER THE GCP PROJECT HERE\n",
        "GCP_PROJECT = \"YOUR-GCP-PROJECT\"\n",
        "print(f\"GCP_PROJECT is set to {GCP_PROJECT}\")"
      ]
    },
    {
      "cell_type": "code",
      "execution_count": 4,
      "metadata": {
        "id": "qM3bzVwlsF71"
      },
      "outputs": [],
      "source": [
        "# Just a list of few existing categories:\n",
        "sample_categories = [\n",
        "    \"Street and Sidewalk Cleaning\",\n",
        "    \"Encampments\",\n",
        "    \"Litter Receptacles\",\n",
        "    \"Tree Maintenance\",\n",
        "    \"Sewer Issues\",\n",
        "    \"Muni Service Feedback\",\n",
        "]"
      ]
    },
    {
      "cell_type": "code",
      "execution_count": 5,
      "metadata": {
        "id": "5VgmGUI_LBbT",
        "colab": {
          "base_uri": "https://localhost:8080/"
        },
        "outputId": "dd5a35fc-8002-46fb-9009-94c7796c21bc"
      },
      "outputs": [
        {
          "output_type": "stream",
          "name": "stdout",
          "text": [
            "Selected category: Tree Maintenance\n"
          ]
        }
      ],
      "source": [
        "CATEGORY = sample_categories[3]\n",
        "print(f\"Selected category: {CATEGORY}\")"
      ]
    },
    {
      "cell_type": "markdown",
      "metadata": {
        "id": "2x4wG61omjBQ"
      },
      "source": [
        "### Authentication\n",
        "The following cell authenticates the user through [Colab](https://colab.sandbox.google.com/). If you intend to run this notebook elsewhere, you will need to change the authentication code in the next cell accordingly."
      ]
    },
    {
      "cell_type": "code",
      "execution_count": 23,
      "metadata": {
        "id": "i7aszhgnkxuv",
        "colab": {
          "base_uri": "https://localhost:8080/"
        },
        "outputId": "ae28e223-9fb5-4f24-91cc-ebaecfaa95c1"
      },
      "outputs": [
        {
          "output_type": "stream",
          "name": "stdout",
          "text": [
            "Authenticating in Colab\n",
            "Authenticated\n"
          ]
        }
      ],
      "source": [
        "from google.colab import auth\n",
        "\n",
        "print(\"Authenticating in Colab\")\n",
        "auth.authenticate_user()\n",
        "print(\"Authenticated\")"
      ]
    },
    {
      "cell_type": "markdown",
      "metadata": {
        "id": "4r8I_CKCsF71"
      },
      "source": [
        "### Helper Functions\n",
        "\n",
        "Helper functions used in this notebook:"
      ]
    },
    {
      "cell_type": "code",
      "execution_count": 7,
      "metadata": {
        "id": "Mi7AeC1CsF72"
      },
      "outputs": [],
      "source": [
        "def prepare_data(timeseries: np.array, width: int):\n",
        "    \"\"\"\n",
        "    Given a time series, create a matrix as the input\n",
        "    for the training and a vector as the output.\n",
        "    \"\"\"\n",
        "    data_x, data_y = [], []\n",
        "    for i in range(len(timeseries) - width - 1):\n",
        "        data_x.append(timeseries[i: (i + width), 0])\n",
        "        data_y.append(timeseries[i + width, 0])\n",
        "    return np.array(data_x), np.array(data_y)"
      ]
    },
    {
      "cell_type": "code",
      "source": [
        "def make_forecasts(model, initial_input, num_forecases=100):\n",
        "    \"\"\"\n",
        "    Use the model to forecast the next several days.\n",
        "    \"\"\"\n",
        "    inputs = np.array(initial_input)\n",
        "    forecasts = []\n",
        "    for i in range(num_forecases):\n",
        "        forecast = model.predict(inputs.reshape(1, -1, 1), verbose=0)[0, 0]\n",
        "        inputs = np.roll(inputs, -1)\n",
        "        inputs[-1] = forecast\n",
        "        forecasts.append(forecast)\n",
        "    return np.array(forecasts)"
      ],
      "metadata": {
        "id": "7ioqgQ8dp6QQ"
      },
      "execution_count": 8,
      "outputs": []
    },
    {
      "cell_type": "markdown",
      "metadata": {
        "id": "UXIitTXv7IEu"
      },
      "source": [
        "## Data Preparation"
      ]
    },
    {
      "cell_type": "markdown",
      "metadata": {
        "id": "LBLKdccfZzKu"
      },
      "source": [
        "### Query the Data"
      ]
    },
    {
      "cell_type": "code",
      "execution_count": 9,
      "metadata": {
        "id": "dVTPniyCsF73"
      },
      "outputs": [],
      "source": [
        "QUERY = \"\"\"\n",
        "WITH\n",
        "  intermediate1 AS (\n",
        "  SELECT\n",
        "    DATE_DIFF(created_date, CURRENT_TIMESTAMP(), DAY) AS days_ago,\n",
        "    category,\n",
        "  FROM\n",
        "    `bigquery-public-data.san_francisco_311.311_service_requests`\n",
        "  WHERE\n",
        "    latitude > 35\n",
        "    AND longitude < -122 ),\n",
        "  intermediate2 AS (\n",
        "  SELECT\n",
        "    DIV(days_ago - MIN(days_ago) OVER(), 7) AS week,\n",
        "    category\n",
        "  FROM\n",
        "    intermediate1)\n",
        "SELECT\n",
        "  category,\n",
        "  week,\n",
        "  COUNT(*) AS count\n",
        "FROM\n",
        "  intermediate2\n",
        "GROUP BY\n",
        "  category,\n",
        "  week;\n",
        "\"\"\""
      ]
    },
    {
      "cell_type": "code",
      "execution_count": 10,
      "metadata": {
        "id": "r5U9WFh-sF74"
      },
      "outputs": [],
      "source": [
        "bqclient = bigquery.Client(project=GCP_PROJECT)\n",
        "dataframe = bqclient.query(QUERY).result().to_dataframe()"
      ]
    },
    {
      "cell_type": "markdown",
      "metadata": {
        "id": "_I8mnYhOBsnr"
      },
      "source": [
        "### Check the Dataframe\n",
        "\n"
      ]
    },
    {
      "cell_type": "code",
      "execution_count": 11,
      "metadata": {
        "id": "84lvVNg8odvS",
        "colab": {
          "base_uri": "https://localhost:8080/",
          "height": 224
        },
        "outputId": "7cbf14fe-5613-462c-ecc9-de36404c7907"
      },
      "outputs": [
        {
          "output_type": "stream",
          "name": "stdout",
          "text": [
            "(27336, 3)\n"
          ]
        },
        {
          "output_type": "execute_result",
          "data": {
            "text/plain": [
              "                  category  week  count\n",
              "0  Shared Spaces Violation   701     20\n",
              "1    Muni Service Feedback   709    104\n",
              "2            Child Request   733     51\n",
              "3    Muni Service Feedback   663     59\n",
              "4   Muni Employee Feedback   678     79"
            ],
            "text/html": [
              "\n",
              "  <div id=\"df-42300ba1-0a73-4500-a971-9461a12045f3\">\n",
              "    <div class=\"colab-df-container\">\n",
              "      <div>\n",
              "<style scoped>\n",
              "    .dataframe tbody tr th:only-of-type {\n",
              "        vertical-align: middle;\n",
              "    }\n",
              "\n",
              "    .dataframe tbody tr th {\n",
              "        vertical-align: top;\n",
              "    }\n",
              "\n",
              "    .dataframe thead th {\n",
              "        text-align: right;\n",
              "    }\n",
              "</style>\n",
              "<table border=\"1\" class=\"dataframe\">\n",
              "  <thead>\n",
              "    <tr style=\"text-align: right;\">\n",
              "      <th></th>\n",
              "      <th>category</th>\n",
              "      <th>week</th>\n",
              "      <th>count</th>\n",
              "    </tr>\n",
              "  </thead>\n",
              "  <tbody>\n",
              "    <tr>\n",
              "      <th>0</th>\n",
              "      <td>Shared Spaces Violation</td>\n",
              "      <td>701</td>\n",
              "      <td>20</td>\n",
              "    </tr>\n",
              "    <tr>\n",
              "      <th>1</th>\n",
              "      <td>Muni Service Feedback</td>\n",
              "      <td>709</td>\n",
              "      <td>104</td>\n",
              "    </tr>\n",
              "    <tr>\n",
              "      <th>2</th>\n",
              "      <td>Child Request</td>\n",
              "      <td>733</td>\n",
              "      <td>51</td>\n",
              "    </tr>\n",
              "    <tr>\n",
              "      <th>3</th>\n",
              "      <td>Muni Service Feedback</td>\n",
              "      <td>663</td>\n",
              "      <td>59</td>\n",
              "    </tr>\n",
              "    <tr>\n",
              "      <th>4</th>\n",
              "      <td>Muni Employee Feedback</td>\n",
              "      <td>678</td>\n",
              "      <td>79</td>\n",
              "    </tr>\n",
              "  </tbody>\n",
              "</table>\n",
              "</div>\n",
              "      <button class=\"colab-df-convert\" onclick=\"convertToInteractive('df-42300ba1-0a73-4500-a971-9461a12045f3')\"\n",
              "              title=\"Convert this dataframe to an interactive table.\"\n",
              "              style=\"display:none;\">\n",
              "        \n",
              "  <svg xmlns=\"http://www.w3.org/2000/svg\" height=\"24px\"viewBox=\"0 0 24 24\"\n",
              "       width=\"24px\">\n",
              "    <path d=\"M0 0h24v24H0V0z\" fill=\"none\"/>\n",
              "    <path d=\"M18.56 5.44l.94 2.06.94-2.06 2.06-.94-2.06-.94-.94-2.06-.94 2.06-2.06.94zm-11 1L8.5 8.5l.94-2.06 2.06-.94-2.06-.94L8.5 2.5l-.94 2.06-2.06.94zm10 10l.94 2.06.94-2.06 2.06-.94-2.06-.94-.94-2.06-.94 2.06-2.06.94z\"/><path d=\"M17.41 7.96l-1.37-1.37c-.4-.4-.92-.59-1.43-.59-.52 0-1.04.2-1.43.59L10.3 9.45l-7.72 7.72c-.78.78-.78 2.05 0 2.83L4 21.41c.39.39.9.59 1.41.59.51 0 1.02-.2 1.41-.59l7.78-7.78 2.81-2.81c.8-.78.8-2.07 0-2.86zM5.41 20L4 18.59l7.72-7.72 1.47 1.35L5.41 20z\"/>\n",
              "  </svg>\n",
              "      </button>\n",
              "      \n",
              "  <style>\n",
              "    .colab-df-container {\n",
              "      display:flex;\n",
              "      flex-wrap:wrap;\n",
              "      gap: 12px;\n",
              "    }\n",
              "\n",
              "    .colab-df-convert {\n",
              "      background-color: #E8F0FE;\n",
              "      border: none;\n",
              "      border-radius: 50%;\n",
              "      cursor: pointer;\n",
              "      display: none;\n",
              "      fill: #1967D2;\n",
              "      height: 32px;\n",
              "      padding: 0 0 0 0;\n",
              "      width: 32px;\n",
              "    }\n",
              "\n",
              "    .colab-df-convert:hover {\n",
              "      background-color: #E2EBFA;\n",
              "      box-shadow: 0px 1px 2px rgba(60, 64, 67, 0.3), 0px 1px 3px 1px rgba(60, 64, 67, 0.15);\n",
              "      fill: #174EA6;\n",
              "    }\n",
              "\n",
              "    [theme=dark] .colab-df-convert {\n",
              "      background-color: #3B4455;\n",
              "      fill: #D2E3FC;\n",
              "    }\n",
              "\n",
              "    [theme=dark] .colab-df-convert:hover {\n",
              "      background-color: #434B5C;\n",
              "      box-shadow: 0px 1px 3px 1px rgba(0, 0, 0, 0.15);\n",
              "      filter: drop-shadow(0px 1px 2px rgba(0, 0, 0, 0.3));\n",
              "      fill: #FFFFFF;\n",
              "    }\n",
              "  </style>\n",
              "\n",
              "      <script>\n",
              "        const buttonEl =\n",
              "          document.querySelector('#df-42300ba1-0a73-4500-a971-9461a12045f3 button.colab-df-convert');\n",
              "        buttonEl.style.display =\n",
              "          google.colab.kernel.accessAllowed ? 'block' : 'none';\n",
              "\n",
              "        async function convertToInteractive(key) {\n",
              "          const element = document.querySelector('#df-42300ba1-0a73-4500-a971-9461a12045f3');\n",
              "          const dataTable =\n",
              "            await google.colab.kernel.invokeFunction('convertToInteractive',\n",
              "                                                     [key], {});\n",
              "          if (!dataTable) return;\n",
              "\n",
              "          const docLinkHtml = 'Like what you see? Visit the ' +\n",
              "            '<a target=\"_blank\" href=https://colab.research.google.com/notebooks/data_table.ipynb>data table notebook</a>'\n",
              "            + ' to learn more about interactive tables.';\n",
              "          element.innerHTML = '';\n",
              "          dataTable['output_type'] = 'display_data';\n",
              "          await google.colab.output.renderOutput(dataTable, element);\n",
              "          const docLink = document.createElement('div');\n",
              "          docLink.innerHTML = docLinkHtml;\n",
              "          element.appendChild(docLink);\n",
              "        }\n",
              "      </script>\n",
              "    </div>\n",
              "  </div>\n",
              "  "
            ]
          },
          "metadata": {},
          "execution_count": 11
        }
      ],
      "source": [
        "print(dataframe.shape)\n",
        "dataframe.head()"
      ]
    },
    {
      "cell_type": "markdown",
      "metadata": {
        "id": "q2Xhrs_BaDex"
      },
      "source": [
        "### Prepare the Data for Training"
      ]
    },
    {
      "cell_type": "markdown",
      "metadata": {
        "id": "slkY8m4vrf3T"
      },
      "source": [
        "For the selected category above, we create a weekly time series based on number of calls that category has received in a given week:"
      ]
    },
    {
      "cell_type": "code",
      "execution_count": 12,
      "metadata": {
        "id": "GnTwrINN_1di",
        "colab": {
          "base_uri": "https://localhost:8080/"
        },
        "outputId": "a1a83a43-8900-4205-af61-b093ec6ea176"
      },
      "outputs": [
        {
          "output_type": "stream",
          "name": "stdout",
          "text": [
            "Length of the time series: 737\n"
          ]
        }
      ],
      "source": [
        "category_df = dataframe[dataframe[\"category\"] == CATEGORY]\n",
        "max_week = category_df[\"week\"].max()\n",
        "min_week = category_df[\"week\"].min()\n",
        "# Some weeks may have no data, in which case we will set the value to zero.\n",
        "category_timeseries = np.zeros(max_week - min_week + 1)\n",
        "for index, row in category_df.iterrows():\n",
        "    category_timeseries[row[\"week\"] - min_week] = row[\"count\"]\n",
        "category_timeseries = category_timeseries.reshape(-1, 1)\n",
        "print(f\"Length of the time series: {len(category_timeseries)}\")"
      ]
    },
    {
      "cell_type": "markdown",
      "metadata": {
        "id": "IlSMpnY_TF0X"
      },
      "source": [
        "We then normalize the time series to ensure all values are between 0 and 1."
      ]
    },
    {
      "cell_type": "code",
      "execution_count": 13,
      "metadata": {
        "id": "mVEW159yByz5"
      },
      "outputs": [],
      "source": [
        "scaler = preprocessing.MinMaxScaler(feature_range=(0, 1))\n",
        "nrm_timeseries = scaler.fit_transform(category_timeseries)"
      ]
    },
    {
      "cell_type": "markdown",
      "metadata": {
        "id": "YnymuBeST_jZ"
      },
      "source": [
        "We split the time series into two partitions for training and testing."
      ]
    },
    {
      "cell_type": "code",
      "execution_count": 14,
      "metadata": {
        "id": "hgAMYfVAS8Nc",
        "colab": {
          "base_uri": "https://localhost:8080/"
        },
        "outputId": "9fcb829e-f68d-4ffc-dee7-d94486138e44"
      },
      "outputs": [
        {
          "output_type": "stream",
          "name": "stdout",
          "text": [
            "Training Size: 515\n",
            "Test Size: 222\n"
          ]
        }
      ],
      "source": [
        "TRAIN_RATIO = 0.7\n",
        "train_size = int(len(nrm_timeseries) * TRAIN_RATIO)\n",
        "test_size = len(nrm_timeseries) - train_size\n",
        "train_timeseries = nrm_timeseries[0:train_size, :]\n",
        "\n",
        "test_timeseries = nrm_timeseries[train_size: len(nrm_timeseries), :]\n",
        "print(f\"Training Size: {len(train_timeseries)}\")\n",
        "print(f\"Test Size: {len(test_timeseries)}\")"
      ]
    },
    {
      "cell_type": "markdown",
      "metadata": {
        "id": "NW2bChBMVnZV"
      },
      "source": [
        "Next, we need to create an input matrix and an output vector from our normalized time series. Here is an example:\n",
        "\n",
        "Let's assume we have the following variables:\n",
        "```\n",
        "timeseries = [0.1, 0.2, 0.3, 0.4, 0.5, 0.6]\n",
        "width = 3\n",
        "```\n",
        "\n",
        "The matrix and the vector will then be:\n",
        "\n",
        "```\n",
        "matrix = [[0.1, 0.2, 0.3],\n",
        "          [0.2, 0.3, 0.4],\n",
        "          [0.3, 0.4, 0.5]]\n",
        "\n",
        "vector = [0.4, 0.5, 0.6]\n",
        "```\n",
        "\n",
        "The `width` can help us determine how many weeks in the time series we want to look back to make a forecast about the next week.\n",
        "\n",
        "In the example above, we want to predict a new entry by looking back at the previous 3 weeks.\n",
        "\n",
        "Let's create the input and output for both training and test time series."
      ]
    },
    {
      "cell_type": "code",
      "execution_count": 15,
      "metadata": {
        "id": "qx5TTnttGEDv",
        "colab": {
          "base_uri": "https://localhost:8080/"
        },
        "outputId": "cf874058-9adc-4135-c84f-fc2701677e04"
      },
      "outputs": [
        {
          "output_type": "execute_result",
          "data": {
            "text/plain": [
              "((509, 5), (509,), (216, 5), (216,))"
            ]
          },
          "metadata": {},
          "execution_count": 15
        }
      ],
      "source": [
        "# Determining how far back we want to look at\n",
        "# the data to make forecasts about the next entries\n",
        "WEEKS_BACK = 5\n",
        "\n",
        "train_x, train_y = prepare_data(train_timeseries, WEEKS_BACK)\n",
        "test_x, test_y = prepare_data(test_timeseries, WEEKS_BACK)\n",
        "train_x.shape, train_y.shape, test_x.shape, test_y.shape"
      ]
    },
    {
      "cell_type": "markdown",
      "metadata": {
        "id": "BVkOVYFqYwiZ"
      },
      "source": [
        "Finally, we need to reshape input with the  `[samples, features, time_steps]` dimensions where `time_steps = 1`."
      ]
    },
    {
      "cell_type": "code",
      "execution_count": 16,
      "metadata": {
        "id": "mibI4CpWGENY",
        "colab": {
          "base_uri": "https://localhost:8080/"
        },
        "outputId": "d404883d-8733-4dba-b8a5-7a60ac0cf8ef"
      },
      "outputs": [
        {
          "output_type": "execute_result",
          "data": {
            "text/plain": [
              "((509, 5, 1), (509,), (216, 5, 1), (216,))"
            ]
          },
          "metadata": {},
          "execution_count": 16
        }
      ],
      "source": [
        "# reshape input to be [samples, time steps, features]\n",
        "train_x = np.reshape(train_x, (train_x.shape[0], train_x.shape[1], 1))\n",
        "test_x = np.reshape(test_x, (test_x.shape[0], test_x.shape[1], 1))\n",
        "train_x.shape, train_y.shape, test_x.shape, test_y.shape"
      ]
    },
    {
      "cell_type": "markdown",
      "metadata": {
        "id": "JQUXlrp4NroU"
      },
      "source": [
        "## Train the Model\n",
        "\n",
        "Now that our data is prepared, we can build and train the model. Here is a simple LSTM model.\n",
        "\n",
        "We should not need a GPU to train this model since our training dataset is not too big.\n"
      ]
    },
    {
      "cell_type": "code",
      "execution_count": 17,
      "metadata": {
        "id": "9rIgZnLlS93y",
        "colab": {
          "base_uri": "https://localhost:8080/"
        },
        "outputId": "6e868704-6495-4b93-fb2e-a399d90e2b78"
      },
      "outputs": [
        {
          "output_type": "stream",
          "name": "stdout",
          "text": [
            "Epoch 1/10\n",
            "32/32 [==============================] - 4s 23ms/step - loss: 0.0038 - val_loss: 0.0097\n",
            "Epoch 2/10\n",
            "32/32 [==============================] - 0s 7ms/step - loss: 0.0023 - val_loss: 0.0106\n",
            "Epoch 3/10\n",
            "32/32 [==============================] - 0s 6ms/step - loss: 0.0021 - val_loss: 0.0093\n",
            "Epoch 4/10\n",
            "32/32 [==============================] - 0s 5ms/step - loss: 0.0020 - val_loss: 0.0089\n",
            "Epoch 5/10\n",
            "32/32 [==============================] - 0s 5ms/step - loss: 0.0018 - val_loss: 0.0084\n",
            "Epoch 6/10\n",
            "32/32 [==============================] - 0s 5ms/step - loss: 0.0017 - val_loss: 0.0081\n",
            "Epoch 7/10\n",
            "32/32 [==============================] - 0s 5ms/step - loss: 0.0017 - val_loss: 0.0077\n",
            "Epoch 8/10\n",
            "32/32 [==============================] - 0s 5ms/step - loss: 0.0017 - val_loss: 0.0080\n",
            "Epoch 9/10\n",
            "32/32 [==============================] - 0s 7ms/step - loss: 0.0016 - val_loss: 0.0080\n",
            "Epoch 10/10\n",
            "32/32 [==============================] - 0s 6ms/step - loss: 0.0016 - val_loss: 0.0078\n"
          ]
        }
      ],
      "source": [
        "model = tf.keras.Sequential()\n",
        "model.add(tf.keras.layers.LSTM(10, input_shape=(WEEKS_BACK, 1)))\n",
        "model.add(tf.keras.layers.Dense(1))\n",
        "model.compile(loss=\"mse\", optimizer=\"adam\")\n",
        "r = model.fit(train_x, train_y, epochs=10, batch_size=16,\n",
        "              validation_data=(test_x, test_y));"
      ]
    },
    {
      "cell_type": "markdown",
      "source": [
        "Let's take a quick look at the losses for both training and test datasets:"
      ],
      "metadata": {
        "id": "7rFZKI9IUJ0_"
      }
    },
    {
      "cell_type": "code",
      "source": [
        "plt.plot(r.history['loss'], label='loss')\n",
        "plt.plot(r.history['val_loss'], label='val_loss')\n",
        "plt.legend();"
      ],
      "metadata": {
        "colab": {
          "base_uri": "https://localhost:8080/",
          "height": 265
        },
        "id": "JvcaXo2yhoCL",
        "outputId": "e7b766db-d88d-493c-e984-f9e262e14240"
      },
      "execution_count": 18,
      "outputs": [
        {
          "output_type": "display_data",
          "data": {
            "text/plain": [
              "<Figure size 432x288 with 1 Axes>"
            ],
            "image/png": "[encoded data removed]"
          },
          "metadata": {
            "needs_background": "light"
          }
        }
      ]
    },
    {
      "cell_type": "markdown",
      "source": [
        "It is obvious that our model is overfitting and unable to fit the data properly."
      ],
      "metadata": {
        "id": "HU77UdK-VEQf"
      }
    },
    {
      "cell_type": "markdown",
      "metadata": {
        "id": "TJbWtW-BeHrl"
      },
      "source": [
        "## Evaluate the Model"
      ]
    },
    {
      "cell_type": "markdown",
      "metadata": {
        "id": "b6KE1e09b3LJ"
      },
      "source": [
        "We will use the last row in `train_x` to make several forecasts and plot the forecasts against out test data."
      ]
    },
    {
      "cell_type": "code",
      "source": [
        "unscaled_forecasts = make_forecasts(model, train_x[-1].flatten(), len(test_y))\n",
        "forecasts = scaler.inverse_transform(unscaled_forecasts.reshape(-1, 1))"
      ],
      "metadata": {
        "id": "LWA2TK7KsECi"
      },
      "execution_count": 19,
      "outputs": []
    },
    {
      "cell_type": "markdown",
      "metadata": {
        "id": "1FTyz6HfdGf9"
      },
      "source": [
        "To plot the results, let's first shift the forecasts to their right spot on the X-axis."
      ]
    },
    {
      "cell_type": "code",
      "execution_count": 20,
      "metadata": {
        "id": "3z0euEOFFiuP"
      },
      "outputs": [],
      "source": [
        "# shift test forecasts for plotting\n",
        "test_forecasts_plot = np.empty_like(nrm_timeseries)\n",
        "test_forecasts_plot[:, :] = np.nan\n",
        "test_forecasts_plot[\n",
        "    len(train_x) + (WEEKS_BACK * 2) + 1: len(nrm_timeseries) - 1, :\n",
        "] = forecasts"
      ]
    },
    {
      "cell_type": "markdown",
      "metadata": {
        "id": "INaVbZTIdaag"
      },
      "source": [
        "Finally, we can plot the results of the forecast."
      ]
    },
    {
      "cell_type": "code",
      "execution_count": 21,
      "metadata": {
        "id": "gPSBSXt4Ftor",
        "colab": {
          "base_uri": "https://localhost:8080/",
          "height": 499
        },
        "outputId": "9be7579d-ada9-4f66-9ab3-8f125a73bb75"
      },
      "outputs": [
        {
          "output_type": "display_data",
          "data": {
            "text/plain": [
              "<Figure size 1080x576 with 1 Axes>"
            ],
            "image/png": "[encoded data removed]"
          },
          "metadata": {
            "needs_background": "light"
          }
        }
      ],
      "source": [
        "# plot baseline and forecasts\n",
        "plt.figure(figsize=(15, 8))\n",
        "plt.style.use(\"tableau-colorblind10\")\n",
        "plt.plot(category_timeseries, label=\"Actual Data\")\n",
        "plt.plot(test_forecasts_plot, label=\"Forecasts\")\n",
        "plt.legend(loc=\"upper left\")\n",
        "plt.title(f'Timeseries plot for \"{CATEGORY}\"')\n",
        "plt.show()"
      ]
    },
    {
      "cell_type": "markdown",
      "metadata": {
        "id": "QDyoiI6PsqaC"
      },
      "source": [
        "The forecast results are not satisfactory. It seems the model simply copies the value from the previous week as its prdiction. None of the following strategies seem to improve the model:\n",
        "- Using `SimpleRNN` or `GRU` instead of `LSTM`\n",
        "- Using a larger number for `WEEKS_BACK`\n",
        "- Using `GlobalMaxPooling1D` after the `LSTM` layer\n",
        "- Using a different activation function such as `rele` or even `None` for the `LSTM` layer\n",
        "\n",
        "Why is that? A look at the time series plot above hardly shows any pattern in the time series. There is barely an uptrend, and aside from some random spikes, there does not seem to be any noticable seasonality, which may be why the model underperforms.\n",
        "\n",
        "As an exercise we invite you to try a more traditional approach, such as training an [ARIMA](https://en.wikipedia.org/wiki/Autoregressive_integrated_moving_average) model instead.\n"
      ]
    }
  ],
  "metadata": {
    "colab": {
      "collapsed_sections": [],
      "provenance": []
    },
    "kernelspec": {
      "display_name": "Python 3 (ipykernel)",
      "language": "python",
      "name": "python3"
    },
    "language_info": {
      "codemirror_mode": {
        "name": "ipython",
        "version": 3
      },
      "file_extension": ".py",
      "mimetype": "text/x-python",
      "name": "python",
      "nbconvert_exporter": "python",
      "pygments_lexer": "ipython3",
      "version": "3.8.12"
    }
  },
  "nbformat": 4,
  "nbformat_minor": 0
}