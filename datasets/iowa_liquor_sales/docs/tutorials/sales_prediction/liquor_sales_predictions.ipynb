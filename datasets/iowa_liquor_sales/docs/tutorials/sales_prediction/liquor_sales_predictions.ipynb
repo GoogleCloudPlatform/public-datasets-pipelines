{
  "cells": [
    {
      "cell_type": "markdown",
      "metadata": {
        "id": "7i8lsRFe2lu5"
      },
      "source": [
        "# Overview\n",
        "\n",
        "This tutorial uses the iowa liquor sales data which has about 24 million rows. The goal of this notebook given a liquor\"s:\n",
        "* pack size(#bottle per pack)\n",
        "* retail cost per bottle\n",
        "* quantity sold\n",
        "\n",
        "predict it\"s future sales price based on the previous years sales data using a tree based ML estimators: Random Forest\n"
      ]
    },
    {
      "cell_type": "code",
      "execution_count": null,
      "metadata": {
        "id": "cFeLh7K7KI6B"
      },
      "outputs": [],
      "source": [
        "%%capture\n",
        "\n",
        "# Installing the required libraries:\n",
        "!pip install matplotlib pandas scikit-learn tensorflow pyarrow tqdm\n",
        "!pip install google-cloud-bigquery google-cloud-bigquery-storage\n",
        "!pip install flake8 pycodestyle pycodestyle_magic\n",
        "!pip install scikit-plot"
      ]
    },
    {
      "cell_type": "code",
      "execution_count": null,
      "metadata": {
        "id": "6_jTxerkMtkg",
        "colab": {
          "base_uri": "https://localhost:8080/"
        },
        "outputId": "79557565-e553-488d-c05b-e0646e3a06ed"
      },
      "outputs": [
        {
          "output_type": "stream",
          "name": "stdout",
          "text": [
            "The autoreload extension is already loaded. To reload it, use:\n",
            "  %reload_ext autoreload\n"
          ]
        }
      ],
      "source": [
        "# import Classic ML\n",
        "from sklearn.metrics import r2_score, mean_absolute_error, mean_squared_error\n",
        "from sklearn.ensemble import RandomForestRegressor\n",
        "\n",
        "# Third Party Libraries\n",
        "from google.cloud import bigquery\n",
        "import pandas as pd\n",
        "import numpy as np\n",
        "import matplotlib.pyplot as plt\n",
        "import seaborn as sns\n",
        "# Configurations\n",
        "%matplotlib inline\n",
        "%load_ext autoreload\n",
        "%autoreload 2"
      ]
    },
    {
      "cell_type": "markdown",
      "metadata": {
        "id": "N7qEYK98Nx89"
      },
      "source": [
        "### Configurations\n",
        "\n",
        "Let's make sure we enter the name of our GCP project in the next cell."
      ]
    },
    {
      "cell_type": "code",
      "execution_count": null,
      "metadata": {
        "colab": {
          "base_uri": "https://localhost:8080/"
        },
        "id": "So_ed4wf0lKu",
        "outputId": "6ee249e5-ae9a-47a2-86f9-2a371dcade83"
      },
      "outputs": [
        {
          "output_type": "stream",
          "name": "stdout",
          "text": [
            "gcp_project is set to gcp-public-data-contributors\n",
            "The year to predict is set to 2021\n"
          ]
        }
      ],
      "source": [
        "# ENTER THE GCP PROJECT HERE\n",
        "gcp_project = \"YOUR-GCP-PROJECT\"\n",
        "print(f\"gcp_project is set to {gcp_project}\")"
      ]
    },
    {
      "cell_type": "code",
      "source": [
        "# ENTER YEAR TO PREDICT\n",
        "YEAR_TO_PREDICT = 2021\n",
        "print(f\"The year to predict is set to {YEAR_TO_PREDICT}\")"
      ],
      "metadata": {
        "id": "7AiKcooBqX5X"
      },
      "execution_count": null,
      "outputs": []
    },
    {
      "cell_type": "markdown",
      "metadata": {
        "id": "2x4wG61omjBQ"
      },
      "source": [
        "### Authentication\n",
        "\n",
        "The following cell authenticates the user through [Colab](https://colab.sandbox.google.com/). If you intend to run this notebook elsewhere, you will need to change the authentication code in the next cell accordingly."
      ]
    },
    {
      "cell_type": "code",
      "execution_count": null,
      "metadata": {
        "colab": {
          "base_uri": "https://localhost:8080/"
        },
        "id": "i7aszhgnkxuv",
        "outputId": "29f08c13-1bd5-4fcc-84ff-e1d077ea864a"
      },
      "outputs": [
        {
          "output_type": "stream",
          "name": "stdout",
          "text": [
            "Authenticating in Colab\n",
            "Authenticated\n"
          ]
        }
      ],
      "source": [
        "from google.colab import auth\n",
        "print(\"Authenticating in Colab\")\n",
        "auth.authenticate_user()\n",
        "print(\"Authenticated\")"
      ]
    },
    {
      "cell_type": "markdown",
      "metadata": {
        "id": "UXIitTXv7IEu"
      },
      "source": [
        "## Data Preparation"
      ]
    },
    {
      "cell_type": "markdown",
      "source": [
        "Query the Data\n",
        "\n",
        ">For consistency and uniqueness of values, I will format the strings in city and category_name columns to lowercase. (e.g Davenport, DAVENPORT, davenport, should not be taken as differents city names). Making also sure there is no Nan values in the dataset"
      ],
      "metadata": {
        "id": "qm3egwEcWwHs"
      }
    },
    {
      "cell_type": "code",
      "execution_count": null,
      "metadata": {
        "id": "CHK89iGIk2jD"
      },
      "outputs": [],
      "source": [
        "# Pulling 20% of the data\n",
        "query = \"\"\"\n",
        "  SELECT\n",
        "    date, LOWER(city) AS city, LOWER(category_name) AS category_name,\n",
        "    pack,state_bottle_retail, bottles_sold, sale_dollars\n",
        "  FROM\n",
        "    `bigquery-public-data.iowa_liquor_sales.sales` TABLESAMPLE SYSTEM (20 PERCENT)\n",
        "  WHERE city IS NOT NULL\n",
        "  AND category_name IS NOT NULL\n",
        "  AND pack IS NOT NULL\n",
        "  AND bottles_sold IS NOT NULL\n",
        "  AND sale_dollars IS NOT NULL\n",
        "  AND state_bottle_retail IS NOT NULL;\n",
        "\"\"\""
      ]
    },
    {
      "cell_type": "code",
      "execution_count": null,
      "metadata": {
        "id": "eoJgVS5KkwF7"
      },
      "outputs": [],
      "source": [
        "bqclient = bigquery.Client(project=gcp_project)\n",
        "dataframe = bqclient.query(query).result().to_dataframe()"
      ]
    },
    {
      "cell_type": "markdown",
      "metadata": {
        "id": "_I8mnYhOBsnr"
      },
      "source": [
        "## Check the Dataframe\n"
      ]
    },
    {
      "cell_type": "markdown",
      "source": [
        "> Let\"s look at the first 5 rows of the dataset"
      ],
      "metadata": {
        "id": "GXuAT1ByYDD3"
      }
    },
    {
      "cell_type": "code",
      "execution_count": null,
      "metadata": {
        "id": "84lvVNg8odvS",
        "colab": {
          "base_uri": "https://localhost:8080/",
          "height": 206
        },
        "outputId": "84f2d10e-910a-45e3-cfee-87b074c7a0d2"
      },
      "outputs": [
        {
          "output_type": "execute_result",
          "data": {
            "text/plain": [
              "         date          city                   category_name  pack  \\\n",
              "0  2017-08-28    des moines           straight rye whiskies     6   \n",
              "1  2012-10-05         boone  decanters & specialty packages     4   \n",
              "2  2014-10-07        vinton               cinnamon schnapps    12   \n",
              "3  2019-08-26  cedar rapids                      triple sec    12   \n",
              "4  2018-10-01     davenport                        gold rum     6   \n",
              "\n",
              "   state_bottle_retail  bottles_sold  sale_dollars  \n",
              "0                27.14            60       1628.40  \n",
              "1                46.50             8        372.00  \n",
              "2                 8.45            36        304.20  \n",
              "3                 3.63            48        174.24  \n",
              "4                11.76            30        352.80  "
            ],
            "text/html": [
              "\n",
              "  <div id=\"df-25a94837-ed69-4161-92f5-abce3b8da5a1\">\n",
              "    <div class=\"colab-df-container\">\n",
              "      <div>\n",
              "<style scoped>\n",
              "    .dataframe tbody tr th:only-of-type {\n",
              "        vertical-align: middle;\n",
              "    }\n",
              "\n",
              "    .dataframe tbody tr th {\n",
              "        vertical-align: top;\n",
              "    }\n",
              "\n",
              "    .dataframe thead th {\n",
              "        text-align: right;\n",
              "    }\n",
              "</style>\n",
              "<table border=\"1\" class=\"dataframe\">\n",
              "  <thead>\n",
              "    <tr style=\"text-align: right;\">\n",
              "      <th></th>\n",
              "      <th>date</th>\n",
              "      <th>city</th>\n",
              "      <th>category_name</th>\n",
              "      <th>pack</th>\n",
              "      <th>state_bottle_retail</th>\n",
              "      <th>bottles_sold</th>\n",
              "      <th>sale_dollars</th>\n",
              "    </tr>\n",
              "  </thead>\n",
              "  <tbody>\n",
              "    <tr>\n",
              "      <th>0</th>\n",
              "      <td>2017-08-28</td>\n",
              "      <td>des moines</td>\n",
              "      <td>straight rye whiskies</td>\n",
              "      <td>6</td>\n",
              "      <td>27.14</td>\n",
              "      <td>60</td>\n",
              "      <td>1628.40</td>\n",
              "    </tr>\n",
              "    <tr>\n",
              "      <th>1</th>\n",
              "      <td>2012-10-05</td>\n",
              "      <td>boone</td>\n",
              "      <td>decanters &amp; specialty packages</td>\n",
              "      <td>4</td>\n",
              "      <td>46.50</td>\n",
              "      <td>8</td>\n",
              "      <td>372.00</td>\n",
              "    </tr>\n",
              "    <tr>\n",
              "      <th>2</th>\n",
              "      <td>2014-10-07</td>\n",
              "      <td>vinton</td>\n",
              "      <td>cinnamon schnapps</td>\n",
              "      <td>12</td>\n",
              "      <td>8.45</td>\n",
              "      <td>36</td>\n",
              "      <td>304.20</td>\n",
              "    </tr>\n",
              "    <tr>\n",
              "      <th>3</th>\n",
              "      <td>2019-08-26</td>\n",
              "      <td>cedar rapids</td>\n",
              "      <td>triple sec</td>\n",
              "      <td>12</td>\n",
              "      <td>3.63</td>\n",
              "      <td>48</td>\n",
              "      <td>174.24</td>\n",
              "    </tr>\n",
              "    <tr>\n",
              "      <th>4</th>\n",
              "      <td>2018-10-01</td>\n",
              "      <td>davenport</td>\n",
              "      <td>gold rum</td>\n",
              "      <td>6</td>\n",
              "      <td>11.76</td>\n",
              "      <td>30</td>\n",
              "      <td>352.80</td>\n",
              "    </tr>\n",
              "  </tbody>\n",
              "</table>\n",
              "</div>\n",
              "      <button class=\"colab-df-convert\" onclick=\"convertToInteractive('df-25a94837-ed69-4161-92f5-abce3b8da5a1')\"\n",
              "              title=\"Convert this dataframe to an interactive table.\"\n",
              "              style=\"display:none;\">\n",
              "        \n",
              "  <svg xmlns=\"http://www.w3.org/2000/svg\" height=\"24px\"viewBox=\"0 0 24 24\"\n",
              "       width=\"24px\">\n",
              "    <path d=\"M0 0h24v24H0V0z\" fill=\"none\"/>\n",
              "    <path d=\"M18.56 5.44l.94 2.06.94-2.06 2.06-.94-2.06-.94-.94-2.06-.94 2.06-2.06.94zm-11 1L8.5 8.5l.94-2.06 2.06-.94-2.06-.94L8.5 2.5l-.94 2.06-2.06.94zm10 10l.94 2.06.94-2.06 2.06-.94-2.06-.94-.94-2.06-.94 2.06-2.06.94z\"/><path d=\"M17.41 7.96l-1.37-1.37c-.4-.4-.92-.59-1.43-.59-.52 0-1.04.2-1.43.59L10.3 9.45l-7.72 7.72c-.78.78-.78 2.05 0 2.83L4 21.41c.39.39.9.59 1.41.59.51 0 1.02-.2 1.41-.59l7.78-7.78 2.81-2.81c.8-.78.8-2.07 0-2.86zM5.41 20L4 18.59l7.72-7.72 1.47 1.35L5.41 20z\"/>\n",
              "  </svg>\n",
              "      </button>\n",
              "      \n",
              "  <style>\n",
              "    .colab-df-container {\n",
              "      display:flex;\n",
              "      flex-wrap:wrap;\n",
              "      gap: 12px;\n",
              "    }\n",
              "\n",
              "    .colab-df-convert {\n",
              "      background-color: #E8F0FE;\n",
              "      border: none;\n",
              "      border-radius: 50%;\n",
              "      cursor: pointer;\n",
              "      display: none;\n",
              "      fill: #1967D2;\n",
              "      height: 32px;\n",
              "      padding: 0 0 0 0;\n",
              "      width: 32px;\n",
              "    }\n",
              "\n",
              "    .colab-df-convert:hover {\n",
              "      background-color: #E2EBFA;\n",
              "      box-shadow: 0px 1px 2px rgba(60, 64, 67, 0.3), 0px 1px 3px 1px rgba(60, 64, 67, 0.15);\n",
              "      fill: #174EA6;\n",
              "    }\n",
              "\n",
              "    [theme=dark] .colab-df-convert {\n",
              "      background-color: #3B4455;\n",
              "      fill: #D2E3FC;\n",
              "    }\n",
              "\n",
              "    [theme=dark] .colab-df-convert:hover {\n",
              "      background-color: #434B5C;\n",
              "      box-shadow: 0px 1px 3px 1px rgba(0, 0, 0, 0.15);\n",
              "      filter: drop-shadow(0px 1px 2px rgba(0, 0, 0, 0.3));\n",
              "      fill: #FFFFFF;\n",
              "    }\n",
              "  </style>\n",
              "\n",
              "      <script>\n",
              "        const buttonEl =\n",
              "          document.querySelector('#df-25a94837-ed69-4161-92f5-abce3b8da5a1 button.colab-df-convert');\n",
              "        buttonEl.style.display =\n",
              "          google.colab.kernel.accessAllowed ? 'block' : 'none';\n",
              "\n",
              "        async function convertToInteractive(key) {\n",
              "          const element = document.querySelector('#df-25a94837-ed69-4161-92f5-abce3b8da5a1');\n",
              "          const dataTable =\n",
              "            await google.colab.kernel.invokeFunction('convertToInteractive',\n",
              "                                                     [key], {});\n",
              "          if (!dataTable) return;\n",
              "\n",
              "          const docLinkHtml = 'Like what you see? Visit the ' +\n",
              "            '<a target=\"_blank\" href=https://colab.research.google.com/notebooks/data_table.ipynb>data table notebook</a>'\n",
              "            + ' to learn more about interactive tables.';\n",
              "          element.innerHTML = '';\n",
              "          dataTable['output_type'] = 'display_data';\n",
              "          await google.colab.output.renderOutput(dataTable, element);\n",
              "          const docLink = document.createElement('div');\n",
              "          docLink.innerHTML = docLinkHtml;\n",
              "          element.appendChild(docLink);\n",
              "        }\n",
              "      </script>\n",
              "    </div>\n",
              "  </div>\n",
              "  "
            ]
          },
          "metadata": {},
          "execution_count": 27
        }
      ],
      "source": [
        "dataframe.head()"
      ]
    },
    {
      "cell_type": "markdown",
      "metadata": {
        "id": "OCnxkSBKLw_m"
      },
      "source": [
        "\n",
        "> Next, we will get some basic information about the dataset"
      ]
    },
    {
      "cell_type": "code",
      "execution_count": null,
      "metadata": {
        "id": "wF5qUydWL6HJ",
        "colab": {
          "base_uri": "https://localhost:8080/"
        },
        "outputId": "335fa5ac-ab23-4833-f90a-adb2c04bcf06"
      },
      "outputs": [
        {
          "output_type": "stream",
          "name": "stdout",
          "text": [
            "<class 'pandas.core.frame.DataFrame'>\n",
            "RangeIndex: 4261379 entries, 0 to 4261378\n",
            "Data columns (total 7 columns):\n",
            " #   Column               Dtype  \n",
            "---  ------               -----  \n",
            " 0   date                 object \n",
            " 1   city                 object \n",
            " 2   category_name        object \n",
            " 3   pack                 int64  \n",
            " 4   state_bottle_retail  float64\n",
            " 5   bottles_sold         int64  \n",
            " 6   sale_dollars         float64\n",
            "dtypes: float64(2), int64(2), object(3)\n",
            "memory usage: 227.6+ MB\n"
          ]
        }
      ],
      "source": [
        "# Exploring the categorical data\n",
        "dataframe.info()"
      ]
    },
    {
      "cell_type": "markdown",
      "metadata": {
        "id": "K3-yckkMKX3g"
      },
      "source": [
        "### Process the Dataframe"
      ]
    },
    {
      "cell_type": "markdown",
      "metadata": {
        "id": "JNWEllWlKQZ4"
      },
      "source": [
        "> Convert the date column from object dtype to datetime  tranform the entries to extract the month and year. then drop original date feature"
      ]
    },
    {
      "cell_type": "code",
      "execution_count": null,
      "metadata": {
        "id": "fFMgzswOG0Wz"
      },
      "outputs": [],
      "source": [
        "dataframe[\"date\"] = dataframe[\"date\"].astype(\"datetime64[ns]\")\n",
        "# Extracting the year and month from datetime object for manipulation\n",
        "dataframe[\"year\"] = dataframe[\"date\"].dt.year\n",
        "dataframe[\"month\"] = dataframe[\"date\"].dt.month\n",
        "\n",
        "# Drop original date column\n",
        "del dataframe[\"date\"]"
      ]
    },
    {
      "cell_type": "markdown",
      "source": [
        "> Since categorical data such as the liquor\"s category_name and the city  will not help in our prediction using the Random Forest estimator, I will drop those features and eliminate the need for doing lot of data engineering"
      ],
      "metadata": {
        "id": "Qlw35_E50xga"
      }
    },
    {
      "cell_type": "code",
      "source": [
        "# Delete orginal category_name column\n",
        "del dataframe[\"city\"]\n",
        "del dataframe[\"category_name\"]"
      ],
      "metadata": {
        "id": "G9o9WWsv04Q9"
      },
      "execution_count": null,
      "outputs": []
    },
    {
      "cell_type": "markdown",
      "metadata": {
        "id": "dg3rI_vugRQ8"
      },
      "source": [
        "## Splitting data based on Year"
      ]
    },
    {
      "cell_type": "markdown",
      "metadata": {
        "id": "MphNLYrahQWQ"
      },
      "source": [
        "> First looking at the relationship between year and sales, we can see that there is direct impact of the year on the sale value of the liquor"
      ]
    },
    {
      "cell_type": "code",
      "source": [
        "year_df = dataframe[[\"year\", \"sale_dollars\"]].groupby(\"year\").mean()\n",
        "year_df.plot();"
      ],
      "metadata": {
        "colab": {
          "base_uri": "https://localhost:8080/",
          "height": 279
        },
        "id": "KoZqYoz_ZxAn",
        "outputId": "6b208039-b68e-46dd-ad11-fd9aa1d0e1f5"
      },
      "execution_count": null,
      "outputs": [
        {
          "output_type": "display_data",
          "data": {
            "text/plain": [
              "<Figure size 432x288 with 1 Axes>"
            ],
            "image/png": "[encoded data removed]"
          },
          "metadata": {
            "needs_background": "light"
          }
        }
      ]
    },
    {
      "cell_type": "markdown",
      "source": [
        "> Looking at the bar plot we can also see the same results. This will inform how I divide my data"
      ],
      "metadata": {
        "id": "oRfdlfIMgKT-"
      }
    },
    {
      "cell_type": "code",
      "execution_count": null,
      "metadata": {
        "id": "vyNXNjrpgqb3",
        "colab": {
          "base_uri": "https://localhost:8080/",
          "height": 312
        },
        "outputId": "0db3d994-ced3-4fee-e8ee-4346e459aa9d"
      },
      "outputs": [
        {
          "output_type": "execute_result",
          "data": {
            "text/plain": [
              "Text(0.5, 1.0, 'Count for Year')"
            ]
          },
          "metadata": {},
          "execution_count": 32
        },
        {
          "output_type": "display_data",
          "data": {
            "text/plain": [
              "<Figure size 432x288 with 1 Axes>"
            ],
            "image/png": "[encoded data removed]"
          },
          "metadata": {
            "needs_background": "light"
          }
        }
      ],
      "source": [
        "# Taking a look at the distribution of the years visually\n",
        "fig, ax = plt.subplots(figsize=(6, 4))\n",
        "sns.countplot(x=\"year\", data=dataframe)\n",
        "plt.title(\"Count for Year\")"
      ]
    },
    {
      "cell_type": "markdown",
      "metadata": {
        "id": "9euMM5SHh-ju"
      },
      "source": [
        "\n",
        "  *   The data from 2012 to 2020 will serve as Training\n",
        "  * Testing will be performed on the data from 2021\n",
        "\n",
        "\n",
        "\n",
        "\n",
        "\n",
        "\n"
      ]
    },
    {
      "cell_type": "code",
      "execution_count": null,
      "metadata": {
        "id": "wa7axNQ6gZ07"
      },
      "outputs": [],
      "source": [
        "# Spliting the data.\n",
        "train = dataframe[dataframe[\"year\"] < YEAR_TO_PREDICT]\n",
        "test = dataframe[dataframe[\"year\"] == YEAR_TO_PREDICT]"
      ]
    },
    {
      "cell_type": "markdown",
      "source": [
        "> Separting Input features from Target features in both the training data and the testing data"
      ],
      "metadata": {
        "id": "5MXUXrYrytPA"
      }
    },
    {
      "cell_type": "code",
      "execution_count": null,
      "metadata": {
        "id": "Dw1GoVR7CQP4"
      },
      "outputs": [],
      "source": [
        "# Training data\n",
        "Y_train = train[\"sale_dollars\"]\n",
        "X_train = train.drop(\"sale_dollars\", axis=1)\n",
        "\n",
        "# Test Data\n",
        "Y_test = test[\"sale_dollars\"]\n",
        "X_test = test.drop(\"sale_dollars\", axis=1)"
      ]
    },
    {
      "cell_type": "markdown",
      "metadata": {
        "id": "Xppw-5jiNr42"
      },
      "source": [
        "## Train and Predict\n",
        "\n",
        "\n"
      ]
    },
    {
      "cell_type": "markdown",
      "metadata": {
        "id": "K-3BFkftP5lQ"
      },
      "source": [
        " > Training with Random Forest"
      ]
    },
    {
      "cell_type": "code",
      "execution_count": null,
      "metadata": {
        "id": "ZkEbVCwfQFiU"
      },
      "outputs": [],
      "source": [
        "randf_estimator = RandomForestRegressor()\n",
        "# Train\n",
        "randf_estimator.fit(X_train, Y_train)\n",
        "# Predict\n",
        "y_pred = randf_estimator.predict(X_test)"
      ]
    },
    {
      "cell_type": "markdown",
      "source": [
        ">Predictions & Accuracy of our model"
      ],
      "metadata": {
        "id": "kZVSHxrtooYV"
      }
    },
    {
      "cell_type": "code",
      "execution_count": null,
      "metadata": {
        "id": "qDiQLpX7QeUz",
        "colab": {
          "base_uri": "https://localhost:8080/"
        },
        "outputId": "373f307c-78f2-4e0a-c571-a108c3039526"
      },
      "outputs": [
        {
          "output_type": "stream",
          "name": "stdout",
          "text": [
            "Scores on the test dataset\n",
            "\n",
            "test r2_score is:    95.11%\n",
            "test abs mean error: 1.87\n",
            "test RMSE:           136.96\n"
          ]
        }
      ],
      "source": [
        "print(\"Scores on the test dataset\\n\")\n",
        "# Test set predictions\n",
        "acc_test = round(np.float64(r2_score(Y_test, y_pred) * 100), 2)\n",
        "print(f\"test r2_score is:    {acc_test}%\")\n",
        "print(f\"test abs mean error: {round(mean_absolute_error(Y_test, y_pred), 2)}\")\n",
        "print(f\"test RMSE:           {round(np.sqrt(mean_squared_error(Y_test, y_pred)), 2)}\")"
      ]
    },
    {
      "cell_type": "code",
      "source": [
        "print(\"Predictions on the test dataset\\n\")\n",
        "# Printing the results for our test dataset\n",
        "print(\"==========================================================\")\n",
        "y_pred = np.round(np.float64(y_pred), 2)\n",
        "test_diff = (Y_test - y_pred) / Y_test\n",
        "predictions = pd.DataFrame({\"Predicted Price\": y_pred, \"Actual Price\": Y_test, \"Difference\": test_diff})\n",
        "predictions.head(10)"
      ],
      "metadata": {
        "colab": {
          "base_uri": "https://localhost:8080/",
          "height": 415
        },
        "id": "F0YdVF8ZQ_79",
        "outputId": "21dd201e-eb16-427a-c7a5-f5cce9a047ab"
      },
      "execution_count": null,
      "outputs": [
        {
          "output_type": "stream",
          "name": "stdout",
          "text": [
            "Predictions on the test dataset\n",
            "\n",
            "==========================================================\n"
          ]
        },
        {
          "output_type": "execute_result",
          "data": {
            "text/plain": [
              "     Predicted Price  Actual Price  Difference\n",
              "21             29.22         29.22    0.000000\n",
              "36            436.66        436.80    0.000321\n",
              "37            102.96        102.96    0.000000\n",
              "46            337.50        337.50    0.000000\n",
              "64           1583.15       1579.50   -0.002311\n",
              "74           3256.80       3256.80    0.000000\n",
              "97              9.74          9.74    0.000000\n",
              "143          2249.99       2250.00    0.000004\n",
              "144           435.60        435.60    0.000000\n",
              "145           189.00        189.00    0.000000"
            ],
            "text/html": [
              "\n",
              "  <div id=\"df-7a230638-53ed-4182-b94e-499d620188ee\">\n",
              "    <div class=\"colab-df-container\">\n",
              "      <div>\n",
              "<style scoped>\n",
              "    .dataframe tbody tr th:only-of-type {\n",
              "        vertical-align: middle;\n",
              "    }\n",
              "\n",
              "    .dataframe tbody tr th {\n",
              "        vertical-align: top;\n",
              "    }\n",
              "\n",
              "    .dataframe thead th {\n",
              "        text-align: right;\n",
              "    }\n",
              "</style>\n",
              "<table border=\"1\" class=\"dataframe\">\n",
              "  <thead>\n",
              "    <tr style=\"text-align: right;\">\n",
              "      <th></th>\n",
              "      <th>Predicted Price</th>\n",
              "      <th>Actual Price</th>\n",
              "      <th>Difference</th>\n",
              "    </tr>\n",
              "  </thead>\n",
              "  <tbody>\n",
              "    <tr>\n",
              "      <th>21</th>\n",
              "      <td>29.22</td>\n",
              "      <td>29.22</td>\n",
              "      <td>0.000000</td>\n",
              "    </tr>\n",
              "    <tr>\n",
              "      <th>36</th>\n",
              "      <td>436.66</td>\n",
              "      <td>436.80</td>\n",
              "      <td>0.000321</td>\n",
              "    </tr>\n",
              "    <tr>\n",
              "      <th>37</th>\n",
              "      <td>102.96</td>\n",
              "      <td>102.96</td>\n",
              "      <td>0.000000</td>\n",
              "    </tr>\n",
              "    <tr>\n",
              "      <th>46</th>\n",
              "      <td>337.50</td>\n",
              "      <td>337.50</td>\n",
              "      <td>0.000000</td>\n",
              "    </tr>\n",
              "    <tr>\n",
              "      <th>64</th>\n",
              "      <td>1583.15</td>\n",
              "      <td>1579.50</td>\n",
              "      <td>-0.002311</td>\n",
              "    </tr>\n",
              "    <tr>\n",
              "      <th>74</th>\n",
              "      <td>3256.80</td>\n",
              "      <td>3256.80</td>\n",
              "      <td>0.000000</td>\n",
              "    </tr>\n",
              "    <tr>\n",
              "      <th>97</th>\n",
              "      <td>9.74</td>\n",
              "      <td>9.74</td>\n",
              "      <td>0.000000</td>\n",
              "    </tr>\n",
              "    <tr>\n",
              "      <th>143</th>\n",
              "      <td>2249.99</td>\n",
              "      <td>2250.00</td>\n",
              "      <td>0.000004</td>\n",
              "    </tr>\n",
              "    <tr>\n",
              "      <th>144</th>\n",
              "      <td>435.60</td>\n",
              "      <td>435.60</td>\n",
              "      <td>0.000000</td>\n",
              "    </tr>\n",
              "    <tr>\n",
              "      <th>145</th>\n",
              "      <td>189.00</td>\n",
              "      <td>189.00</td>\n",
              "      <td>0.000000</td>\n",
              "    </tr>\n",
              "  </tbody>\n",
              "</table>\n",
              "</div>\n",
              "      <button class=\"colab-df-convert\" onclick=\"convertToInteractive('df-7a230638-53ed-4182-b94e-499d620188ee')\"\n",
              "              title=\"Convert this dataframe to an interactive table.\"\n",
              "              style=\"display:none;\">\n",
              "        \n",
              "  <svg xmlns=\"http://www.w3.org/2000/svg\" height=\"24px\"viewBox=\"0 0 24 24\"\n",
              "       width=\"24px\">\n",
              "    <path d=\"M0 0h24v24H0V0z\" fill=\"none\"/>\n",
              "    <path d=\"M18.56 5.44l.94 2.06.94-2.06 2.06-.94-2.06-.94-.94-2.06-.94 2.06-2.06.94zm-11 1L8.5 8.5l.94-2.06 2.06-.94-2.06-.94L8.5 2.5l-.94 2.06-2.06.94zm10 10l.94 2.06.94-2.06 2.06-.94-2.06-.94-.94-2.06-.94 2.06-2.06.94z\"/><path d=\"M17.41 7.96l-1.37-1.37c-.4-.4-.92-.59-1.43-.59-.52 0-1.04.2-1.43.59L10.3 9.45l-7.72 7.72c-.78.78-.78 2.05 0 2.83L4 21.41c.39.39.9.59 1.41.59.51 0 1.02-.2 1.41-.59l7.78-7.78 2.81-2.81c.8-.78.8-2.07 0-2.86zM5.41 20L4 18.59l7.72-7.72 1.47 1.35L5.41 20z\"/>\n",
              "  </svg>\n",
              "      </button>\n",
              "      \n",
              "  <style>\n",
              "    .colab-df-container {\n",
              "      display:flex;\n",
              "      flex-wrap:wrap;\n",
              "      gap: 12px;\n",
              "    }\n",
              "\n",
              "    .colab-df-convert {\n",
              "      background-color: #E8F0FE;\n",
              "      border: none;\n",
              "      border-radius: 50%;\n",
              "      cursor: pointer;\n",
              "      display: none;\n",
              "      fill: #1967D2;\n",
              "      height: 32px;\n",
              "      padding: 0 0 0 0;\n",
              "      width: 32px;\n",
              "    }\n",
              "\n",
              "    .colab-df-convert:hover {\n",
              "      background-color: #E2EBFA;\n",
              "      box-shadow: 0px 1px 2px rgba(60, 64, 67, 0.3), 0px 1px 3px 1px rgba(60, 64, 67, 0.15);\n",
              "      fill: #174EA6;\n",
              "    }\n",
              "\n",
              "    [theme=dark] .colab-df-convert {\n",
              "      background-color: #3B4455;\n",
              "      fill: #D2E3FC;\n",
              "    }\n",
              "\n",
              "    [theme=dark] .colab-df-convert:hover {\n",
              "      background-color: #434B5C;\n",
              "      box-shadow: 0px 1px 3px 1px rgba(0, 0, 0, 0.15);\n",
              "      filter: drop-shadow(0px 1px 2px rgba(0, 0, 0, 0.3));\n",
              "      fill: #FFFFFF;\n",
              "    }\n",
              "  </style>\n",
              "\n",
              "      <script>\n",
              "        const buttonEl =\n",
              "          document.querySelector('#df-7a230638-53ed-4182-b94e-499d620188ee button.colab-df-convert');\n",
              "        buttonEl.style.display =\n",
              "          google.colab.kernel.accessAllowed ? 'block' : 'none';\n",
              "\n",
              "        async function convertToInteractive(key) {\n",
              "          const element = document.querySelector('#df-7a230638-53ed-4182-b94e-499d620188ee');\n",
              "          const dataTable =\n",
              "            await google.colab.kernel.invokeFunction('convertToInteractive',\n",
              "                                                     [key], {});\n",
              "          if (!dataTable) return;\n",
              "\n",
              "          const docLinkHtml = 'Like what you see? Visit the ' +\n",
              "            '<a target=\"_blank\" href=https://colab.research.google.com/notebooks/data_table.ipynb>data table notebook</a>'\n",
              "            + ' to learn more about interactive tables.';\n",
              "          element.innerHTML = '';\n",
              "          dataTable['output_type'] = 'display_data';\n",
              "          await google.colab.output.renderOutput(dataTable, element);\n",
              "          const docLink = document.createElement('div');\n",
              "          docLink.innerHTML = docLinkHtml;\n",
              "          element.appendChild(docLink);\n",
              "        }\n",
              "      </script>\n",
              "    </div>\n",
              "  </div>\n",
              "  "
            ]
          },
          "metadata": {},
          "execution_count": 37
        }
      ]
    },
    {
      "cell_type": "markdown",
      "source": [
        "## Feature Importance Plotting"
      ],
      "metadata": {
        "id": "t-myR3s8qsBp"
      }
    },
    {
      "cell_type": "code",
      "source": [
        "colors = [\"blue\", \"orange\"]\n",
        "plt.subplots(figsize=(5, 4))\n",
        "feat_importances = pd.Series(randf_estimator.feature_importances_, index=X_train.columns)\n",
        "feat_importances.nlargest(2).plot(kind=\"barh\", color=colors);"
      ],
      "metadata": {
        "colab": {
          "base_uri": "https://localhost:8080/",
          "height": 265
        },
        "id": "KnWnaXMpkYEL",
        "outputId": "dd367cdf-a03e-4440-b980-dc09acc687b1"
      },
      "execution_count": null,
      "outputs": [
        {
          "output_type": "display_data",
          "data": {
            "text/plain": [
              "<Figure size 360x288 with 1 Axes>"
            ],
            "image/png": "[encoded data removed]"
          },
          "metadata": {
            "needs_background": "light"
          }
        }
      ]
    },
    {
      "cell_type": "markdown",
      "source": [
        "As we can see from the plot above, the prediction was mostly influenced by the number bottles sold, then cost that state paid per bottle to the maker of the liquor.\n",
        "\n",
        "This conclude our tutorial. we can now predict with some confidence, how much a particular liquor is going to sell for at a given month of a future year"
      ],
      "metadata": {
        "id": "MQeRZCv_3f6a"
      }
    }
  ],
  "metadata": {
    "colab": {
      "collapsed_sections": [],
      "name": "liquor_sales_predictions.ipynb",
      "provenance": []
    },
    "gpuClass": "standard",
    "kernelspec": {
      "display_name": "Python 3",
      "language": "python",
      "name": "python3"
    },
    "language_info": {
      "codemirror_mode": {
        "name": "ipython",
        "version": 3
      },
      "file_extension": ".py",
      "mimetype": "text/x-python",
      "name": "python",
      "nbconvert_exporter": "python",
      "pygments_lexer": "ipython3",
      "version": "3.8.2"
    }
  },
  "nbformat": 4,
  "nbformat_minor": 0
}