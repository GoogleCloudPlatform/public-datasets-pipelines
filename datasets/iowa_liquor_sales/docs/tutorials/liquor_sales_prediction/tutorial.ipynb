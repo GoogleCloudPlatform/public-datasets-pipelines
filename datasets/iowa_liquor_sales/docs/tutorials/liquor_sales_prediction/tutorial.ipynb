{
  "cells": [
    {
      "cell_type": "markdown",
      "metadata": {
        "id": "7i8lsRFe2lu5"
      },
      "source": [
        "# Overview\n",
        "\n",
        "This tutorial uses the iowa liquor sales data which has about 24 million rows. The goal of this notebook given a liquor's:\n",
        "* pack size(#bottle per pack)\n",
        "* retail cost per bottle\n",
        "* quantity sold\n",
        "\n",
        "predict it's future sales price based on the previous years sales data using a tree based ML estimators: Random Forest\n"
      ]
    },
    {
      "cell_type": "code",
      "execution_count": null,
      "metadata": {
        "id": "cFeLh7K7KI6B"
      },
      "outputs": [],
      "source": [
        "%%capture\n",
        "\n",
        "# Installing the required libraries:\n",
        "!pip install matplotlib pandas scikit-learn tensorflow pyarrow tqdm\n",
        "!pip install google-cloud-bigquery google-cloud-bigquery-storage\n",
        "!pip install flake8 pycodestyle pycodestyle_magic\n",
        "!pip install scikit-plot"
      ]
    },
    {
      "cell_type": "code",
      "execution_count": null,
      "metadata": {
        "id": "6_jTxerkMtkg"
      },
      "outputs": [],
      "source": [
        "# Python Builtin Libraries\n",
        "from datetime import datetime\n",
        "\n",
        "#import Classic ML\n",
        "import sklearn\n",
        "from sklearn.metrics import r2_score, mean_absolute_error, mean_squared_error\n",
        "from sklearn.ensemble import RandomForestRegressor\n",
        "\n",
        "# Third Party Libraries\n",
        "from google.cloud import bigquery\n",
        "import pandas as pd\n",
        "import numpy as np\n",
        "import matplotlib.pyplot as plt\n",
        "import seaborn as sns\n",
        "\n",
        "# Configurations\n",
        "%matplotlib inline\n",
        "%load_ext autoreload\n",
        "%autoreload 2"
      ]
    },
    {
      "cell_type": "markdown",
      "metadata": {
        "id": "2x4wG61omjBQ"
      },
      "source": [
        "### Authentication\n",
        "In order to run this tutorial successfully, we need to be authenticated first. \n",
        "\n",
        "Depending on where we are running this notebook, the authentication steps may vary:\n",
        "\n",
        "| Runner      | Authentiction Steps |\n",
        "| ----------- | ----------- |\n",
        "| Local Computer      |  Use a service account, or run the following command: <br><br>`gcloud auth login`    |\n",
        "| Colab   | Run the following python code and follow the instructions: <br><br>`from google.colab import auth` <br> `auth.authenticate_user()     `    |\n",
        "| Vertext AI (Workbench)   | Authentication is provided by Workbench       |"
      ]
    },
    {
      "cell_type": "code",
      "execution_count": null,
      "metadata": {
        "colab": {
          "base_uri": "https://localhost:8080/"
        },
        "id": "i7aszhgnkxuv",
        "outputId": "7d67cb37-c3a8-4fa4-88dc-1cfcd3326f3d"
      },
      "outputs": [
        {
          "name": "stdout",
          "output_type": "stream",
          "text": [
            "Authenticating in Colab\n",
            "Authenticated\n"
          ]
        }
      ],
      "source": [
        "try:\n",
        "    from google.colab import auth\n",
        "\n",
        "    print('Authenticating in Colab')\n",
        "    auth.authenticate_user()\n",
        "    print('Authenticated')\n",
        "except:  # noqa\n",
        "    print('This notebook is not running on Colab.')\n",
        "    print('Please make sure to follow the authentication steps.')"
      ]
    },
    {
      "cell_type": "markdown",
      "metadata": {
        "id": "N7qEYK98Nx89"
      },
      "source": [
        "### Configurations\n",
        "\n",
        "Let's make sure we enter the name of our GCP project in the next cell."
      ]
    },
    {
      "cell_type": "code",
      "execution_count": null,
      "metadata": {
        "colab": {
          "base_uri": "https://localhost:8080/"
        },
        "id": "So_ed4wf0lKu",
        "outputId": "c96712eb-e2e2-4f23-9cd3-0c31c3277d8a"
      },
      "outputs": [
        {
          "name": "stdout",
          "output_type": "stream",
          "text": [
            "gcp_project is set to gcp-public-data-contributors\n",
            "The year to predict is set to 2021\n"
          ]
        }
      ],
      "source": [
        "# ENTER THE GCP PROJECT HERE\n",
        "gcp_project = YOUR_GCP_PROJECT\n",
        "print(f'gcp_project is set to {gcp_project}')\n",
        "\n",
        "# ENTER YEAR TO PREDICT\n",
        "YEAR_TO_PREDICT = 2021\n",
        "print(f'The year to predict is set to {YEAR_TO_PREDICT}')  "
      ]
    },
    {
      "cell_type": "markdown",
      "metadata": {
        "id": "UXIitTXv7IEu"
      },
      "source": [
        "## Data Preparation"
      ]
    },
    {
      "cell_type": "markdown",
      "metadata": {
        "id": "bojivS875Xvz"
      },
      "source": [
        "> I will do most of the preprocessing of the data in the query. For consistency and uniqueness of values, I will format the strings in city and category_name columns to lowercase. (e.g Davenport, DAVENPORT, davenport, should not be taken as differents city names). Making also sure there is no Nan values in the dataset"
      ]
    },
    {
      "cell_type": "code",
      "execution_count": null,
      "metadata": {
        "id": "CHK89iGIk2jD"
      },
      "outputs": [],
      "source": [
        "#Pulling 20% of the data\n",
        "query = '''\n",
        "  SELECT\n",
        "    date, LOWER(city) AS city, LOWER(category_name) AS category_name,\n",
        "    pack,state_bottle_retail, bottles_sold, sale_dollars\n",
        "  FROM\n",
        "    `bigquery-public-data.iowa_liquor_sales.sales` TABLESAMPLE SYSTEM (20 PERCENT)\n",
        "  WHERE city IS NOT NULL\n",
        "  AND category_name IS NOT NULL\n",
        "  AND pack IS NOT NULL\n",
        "  AND bottles_sold IS NOT NULL\n",
        "  AND sale_dollars IS NOT NULL\n",
        "  AND state_bottle_retail IS NOT NULL;\n",
        "'''"
      ]
    },
    {
      "cell_type": "code",
      "execution_count": null,
      "metadata": {
        "id": "eoJgVS5KkwF7"
      },
      "outputs": [],
      "source": [
        "bqclient = bigquery.Client(project=gcp_project)\n",
        "dataframe = bqclient.query(query).result().to_dataframe()"
      ]
    },
    {
      "cell_type": "markdown",
      "metadata": {
        "id": "_I8mnYhOBsnr"
      },
      "source": [
        "### Check the Dataframe\n",
        "\n"
      ]
    },
    {
      "cell_type": "markdown",
      "metadata": {
        "id": "rLzMVmRCLlO-"
      },
      "source": [
        "> Let's look at the first 5 rows of the dataset"
      ]
    },
    {
      "cell_type": "code",
      "execution_count": null,
      "metadata": {
        "colab": {
          "base_uri": "https://localhost:8080/",
          "height": 206
        },
        "id": "84lvVNg8odvS",
        "outputId": "7bd1647c-add2-48e4-b448-2d396d636d76"
      },
      "outputs": [
        {
          "data": {
            "text/html": [
              "\n",
              "  <div id=\"df-dabffa2a-d0aa-4acd-b1b7-f1669dd7c0e1\">\n",
              "    <div class=\"colab-df-container\">\n",
              "      <div>\n",
              "<style scoped>\n",
              "    .dataframe tbody tr th:only-of-type {\n",
              "        vertical-align: middle;\n",
              "    }\n",
              "\n",
              "    .dataframe tbody tr th {\n",
              "        vertical-align: top;\n",
              "    }\n",
              "\n",
              "    .dataframe thead th {\n",
              "        text-align: right;\n",
              "    }\n",
              "</style>\n",
              "<table border=\"1\" class=\"dataframe\">\n",
              "  <thead>\n",
              "    <tr style=\"text-align: right;\">\n",
              "      <th></th>\n",
              "      <th>date</th>\n",
              "      <th>city</th>\n",
              "      <th>category_name</th>\n",
              "      <th>pack</th>\n",
              "      <th>state_bottle_retail</th>\n",
              "      <th>bottles_sold</th>\n",
              "      <th>sale_dollars</th>\n",
              "    </tr>\n",
              "  </thead>\n",
              "  <tbody>\n",
              "    <tr>\n",
              "      <th>0</th>\n",
              "      <td>2019-09-24</td>\n",
              "      <td>davenport</td>\n",
              "      <td>gold rum</td>\n",
              "      <td>6</td>\n",
              "      <td>11.76</td>\n",
              "      <td>72</td>\n",
              "      <td>846.72</td>\n",
              "    </tr>\n",
              "    <tr>\n",
              "      <th>1</th>\n",
              "      <td>2018-08-31</td>\n",
              "      <td>muscatine</td>\n",
              "      <td>coffee liqueurs</td>\n",
              "      <td>24</td>\n",
              "      <td>9.74</td>\n",
              "      <td>1</td>\n",
              "      <td>9.74</td>\n",
              "    </tr>\n",
              "    <tr>\n",
              "      <th>2</th>\n",
              "      <td>2021-04-01</td>\n",
              "      <td>cedar rapids</td>\n",
              "      <td>single malt scotch</td>\n",
              "      <td>12</td>\n",
              "      <td>60.02</td>\n",
              "      <td>7</td>\n",
              "      <td>420.14</td>\n",
              "    </tr>\n",
              "    <tr>\n",
              "      <th>3</th>\n",
              "      <td>2014-11-05</td>\n",
              "      <td>ames</td>\n",
              "      <td>peach schnapps</td>\n",
              "      <td>12</td>\n",
              "      <td>11.43</td>\n",
              "      <td>4</td>\n",
              "      <td>45.72</td>\n",
              "    </tr>\n",
              "    <tr>\n",
              "      <th>4</th>\n",
              "      <td>2020-05-21</td>\n",
              "      <td>waukee</td>\n",
              "      <td>neutral grain spirits</td>\n",
              "      <td>8</td>\n",
              "      <td>13.13</td>\n",
              "      <td>16</td>\n",
              "      <td>210.08</td>\n",
              "    </tr>\n",
              "  </tbody>\n",
              "</table>\n",
              "</div>\n",
              "      <button class=\"colab-df-convert\" onclick=\"convertToInteractive('df-dabffa2a-d0aa-4acd-b1b7-f1669dd7c0e1')\"\n",
              "              title=\"Convert this dataframe to an interactive table.\"\n",
              "              style=\"display:none;\">\n",
              "        \n",
              "  <svg xmlns=\"http://www.w3.org/2000/svg\" height=\"24px\"viewBox=\"0 0 24 24\"\n",
              "       width=\"24px\">\n",
              "    <path d=\"M0 0h24v24H0V0z\" fill=\"none\"/>\n",
              "    <path d=\"M18.56 5.44l.94 2.06.94-2.06 2.06-.94-2.06-.94-.94-2.06-.94 2.06-2.06.94zm-11 1L8.5 8.5l.94-2.06 2.06-.94-2.06-.94L8.5 2.5l-.94 2.06-2.06.94zm10 10l.94 2.06.94-2.06 2.06-.94-2.06-.94-.94-2.06-.94 2.06-2.06.94z\"/><path d=\"M17.41 7.96l-1.37-1.37c-.4-.4-.92-.59-1.43-.59-.52 0-1.04.2-1.43.59L10.3 9.45l-7.72 7.72c-.78.78-.78 2.05 0 2.83L4 21.41c.39.39.9.59 1.41.59.51 0 1.02-.2 1.41-.59l7.78-7.78 2.81-2.81c.8-.78.8-2.07 0-2.86zM5.41 20L4 18.59l7.72-7.72 1.47 1.35L5.41 20z\"/>\n",
              "  </svg>\n",
              "      </button>\n",
              "      \n",
              "  <style>\n",
              "    .colab-df-container {\n",
              "      display:flex;\n",
              "      flex-wrap:wrap;\n",
              "      gap: 12px;\n",
              "    }\n",
              "\n",
              "    .colab-df-convert {\n",
              "      background-color: #E8F0FE;\n",
              "      border: none;\n",
              "      border-radius: 50%;\n",
              "      cursor: pointer;\n",
              "      display: none;\n",
              "      fill: #1967D2;\n",
              "      height: 32px;\n",
              "      padding: 0 0 0 0;\n",
              "      width: 32px;\n",
              "    }\n",
              "\n",
              "    .colab-df-convert:hover {\n",
              "      background-color: #E2EBFA;\n",
              "      box-shadow: 0px 1px 2px rgba(60, 64, 67, 0.3), 0px 1px 3px 1px rgba(60, 64, 67, 0.15);\n",
              "      fill: #174EA6;\n",
              "    }\n",
              "\n",
              "    [theme=dark] .colab-df-convert {\n",
              "      background-color: #3B4455;\n",
              "      fill: #D2E3FC;\n",
              "    }\n",
              "\n",
              "    [theme=dark] .colab-df-convert:hover {\n",
              "      background-color: #434B5C;\n",
              "      box-shadow: 0px 1px 3px 1px rgba(0, 0, 0, 0.15);\n",
              "      filter: drop-shadow(0px 1px 2px rgba(0, 0, 0, 0.3));\n",
              "      fill: #FFFFFF;\n",
              "    }\n",
              "  </style>\n",
              "\n",
              "      <script>\n",
              "        const buttonEl =\n",
              "          document.querySelector('#df-dabffa2a-d0aa-4acd-b1b7-f1669dd7c0e1 button.colab-df-convert');\n",
              "        buttonEl.style.display =\n",
              "          google.colab.kernel.accessAllowed ? 'block' : 'none';\n",
              "\n",
              "        async function convertToInteractive(key) {\n",
              "          const element = document.querySelector('#df-dabffa2a-d0aa-4acd-b1b7-f1669dd7c0e1');\n",
              "          const dataTable =\n",
              "            await google.colab.kernel.invokeFunction('convertToInteractive',\n",
              "                                                     [key], {});\n",
              "          if (!dataTable) return;\n",
              "\n",
              "          const docLinkHtml = 'Like what you see? Visit the ' +\n",
              "            '<a target=\"_blank\" href=https://colab.research.google.com/notebooks/data_table.ipynb>data table notebook</a>'\n",
              "            + ' to learn more about interactive tables.';\n",
              "          element.innerHTML = '';\n",
              "          dataTable['output_type'] = 'display_data';\n",
              "          await google.colab.output.renderOutput(dataTable, element);\n",
              "          const docLink = document.createElement('div');\n",
              "          docLink.innerHTML = docLinkHtml;\n",
              "          element.appendChild(docLink);\n",
              "        }\n",
              "      </script>\n",
              "    </div>\n",
              "  </div>\n",
              "  "
            ],
            "text/plain": [
              "         date          city          category_name  pack  state_bottle_retail  \\\n",
              "0  2019-09-24     davenport               gold rum     6                11.76   \n",
              "1  2018-08-31     muscatine        coffee liqueurs    24                 9.74   \n",
              "2  2021-04-01  cedar rapids     single malt scotch    12                60.02   \n",
              "3  2014-11-05          ames         peach schnapps    12                11.43   \n",
              "4  2020-05-21        waukee  neutral grain spirits     8                13.13   \n",
              "\n",
              "   bottles_sold  sale_dollars  \n",
              "0            72        846.72  \n",
              "1             1          9.74  \n",
              "2             7        420.14  \n",
              "3             4         45.72  \n",
              "4            16        210.08  "
            ]
          },
          "execution_count": 7,
          "metadata": {},
          "output_type": "execute_result"
        }
      ],
      "source": [
        "dataframe.head()"
      ]
    },
    {
      "cell_type": "markdown",
      "metadata": {
        "id": "OCnxkSBKLw_m"
      },
      "source": [
        "> Next, we will get some basic information about the dataset"
      ]
    },
    {
      "cell_type": "code",
      "execution_count": null,
      "metadata": {
        "colab": {
          "base_uri": "https://localhost:8080/"
        },
        "id": "wF5qUydWL6HJ",
        "outputId": "7e329a55-6ce9-4b3b-eb55-65bf22962cf2"
      },
      "outputs": [
        {
          "name": "stdout",
          "output_type": "stream",
          "text": [
            "<class 'pandas.core.frame.DataFrame'>\n",
            "RangeIndex: 4257329 entries, 0 to 4257328\n",
            "Data columns (total 7 columns):\n",
            " #   Column               Dtype  \n",
            "---  ------               -----  \n",
            " 0   date                 object \n",
            " 1   city                 object \n",
            " 2   category_name        object \n",
            " 3   pack                 int64  \n",
            " 4   state_bottle_retail  float64\n",
            " 5   bottles_sold         int64  \n",
            " 6   sale_dollars         float64\n",
            "dtypes: float64(2), int64(2), object(3)\n",
            "memory usage: 227.4+ MB\n"
          ]
        }
      ],
      "source": [
        "#Exploring the categorical data\n",
        "dataframe.info()"
      ]
    },
    {
      "cell_type": "markdown",
      "metadata": {
        "id": "K3-yckkMKX3g"
      },
      "source": [
        "### Process the Dataframe"
      ]
    },
    {
      "cell_type": "markdown",
      "metadata": {
        "id": "JNWEllWlKQZ4"
      },
      "source": [
        "> Convert the date column from object dtype to datetime  tranform the entries to extract the month and year. then drop original date feature"
      ]
    },
    {
      "cell_type": "code",
      "execution_count": null,
      "metadata": {
        "id": "fFMgzswOG0Wz"
      },
      "outputs": [],
      "source": [
        "dataframe['date'] = dataframe['date'].astype('datetime64[ns]')\n",
        "\n",
        "#Extracting the year and month from datetime object for manipulation\n",
        "dataframe['year'] = dataframe['date'].dt.year\n",
        "dataframe['month'] = dataframe['date'].dt.month\n",
        "\n",
        "#Drop original date column\n",
        "del dataframe['date']"
      ]
    },
    {
      "cell_type": "markdown",
      "metadata": {
        "id": "Qlw35_E50xga"
      },
      "source": [
        "> Since categorical data such as the liquor's category_name and the city  will not help in our prediction using the Random Forest estimator, I will drop those features and eliminate the need for doing lot of data engineering"
      ]
    },
    {
      "cell_type": "code",
      "execution_count": null,
      "metadata": {
        "id": "G9o9WWsv04Q9"
      },
      "outputs": [],
      "source": [
        "#Delete orginal category_name column\n",
        "del dataframe['city']\n",
        "del dataframe['category_name']"
      ]
    },
    {
      "cell_type": "markdown",
      "metadata": {
        "id": "dg3rI_vugRQ8"
      },
      "source": [
        "## Splitting data based on Year"
      ]
    },
    {
      "cell_type": "markdown",
      "metadata": {
        "id": "MphNLYrahQWQ"
      },
      "source": [
        ">Since we aim to predict the sales value of  liquors at some point in future years, we will plot and look at the distribution of the data YOY to inform our split"
      ]
    },
    {
      "cell_type": "code",
      "execution_count": null,
      "metadata": {
        "colab": {
          "base_uri": "https://localhost:8080/",
          "height": 312
        },
        "id": "vyNXNjrpgqb3",
        "outputId": "96b9f0f6-db1b-4faf-e498-f96adbdf64b4"
      },
      "outputs": [
        {
          "data": {
            "text/plain": [
              "Text(0.5, 1.0, 'Count for Year')"
            ]
          },
          "execution_count": 11,
          "metadata": {},
          "output_type": "execute_result"
        },
        {
          "data": {
            "image/png": "[encoded data removed]",
            "text/plain": [
              "<Figure size 432x288 with 1 Axes>"
            ]
          },
          "metadata": {
            "needs_background": "light"
          },
          "output_type": "display_data"
        }
      ],
      "source": [
        "#Taking a look at the distribution of the years visually\n",
        "fig , ax = plt.subplots(figsize=(6,4))\n",
        "sns.countplot(x='year', data=dataframe)\n",
        "plt.title('Count for Year')"
      ]
    },
    {
      "cell_type": "markdown",
      "metadata": {
        "id": "9euMM5SHh-ju"
      },
      "source": [
        "\n",
        "  *   The data from 2012 to 2020 will serve as Training\n",
        "  * Testing will be performed on the data from 2021\n",
        "\n",
        "\n",
        "\n",
        "\n",
        "\n",
        "\n"
      ]
    },
    {
      "cell_type": "code",
      "execution_count": null,
      "metadata": {
        "id": "wa7axNQ6gZ07"
      },
      "outputs": [],
      "source": [
        "# Spliting the data.\n",
        "train = dataframe[dataframe['year'] < YEAR_TO_PREDICT]\n",
        "test = dataframe[dataframe['year'] == YEAR_TO_PREDICT]"
      ]
    },
    {
      "cell_type": "markdown",
      "metadata": {
        "id": "5MXUXrYrytPA"
      },
      "source": [
        "> Separting Input features from Target features in both the training data and the testing data"
      ]
    },
    {
      "cell_type": "code",
      "execution_count": null,
      "metadata": {
        "id": "Dw1GoVR7CQP4"
      },
      "outputs": [],
      "source": [
        "# Training data\n",
        "Y_train = train['sale_dollars']\n",
        "X_train = train.drop('sale_dollars', axis=1)\n",
        "\n",
        "# Test Data\n",
        "Y_test = test['sale_dollars']\n",
        "X_test = test.drop('sale_dollars', axis=1)"
      ]
    },
    {
      "cell_type": "markdown",
      "metadata": {
        "id": "Xppw-5jiNr42"
      },
      "source": [
        "## Train and Predict\n",
        "\n",
        "\n"
      ]
    },
    {
      "cell_type": "markdown",
      "metadata": {
        "id": "K-3BFkftP5lQ"
      },
      "source": [
        " > Training with Random Forest"
      ]
    },
    {
      "cell_type": "code",
      "execution_count": null,
      "metadata": {
        "id": "ZkEbVCwfQFiU"
      },
      "outputs": [],
      "source": [
        "randf_estimator = RandomForestRegressor()\n",
        "#Train\n",
        "randf_estimator.fit(X_train, Y_train)\n",
        "#Predict\n",
        "y_pred = randf_estimator.predict(X_test)"
      ]
    },
    {
      "cell_type": "markdown",
      "metadata": {
        "id": "kZVSHxrtooYV"
      },
      "source": [
        ">Predictions & Accuracy of our model"
      ]
    },
    {
      "cell_type": "code",
      "execution_count": null,
      "metadata": {
        "colab": {
          "base_uri": "https://localhost:8080/"
        },
        "id": "qDiQLpX7QeUz",
        "outputId": "7df09f6f-c599-4592-a44e-7191b917e4c4"
      },
      "outputs": [
        {
          "name": "stdout",
          "output_type": "stream",
          "text": [
            "Scores on the test dataset\n",
            "\n",
            "test r2_score is:    94.22%\n",
            "test abs mean error: 1.98\n",
            "test RMSE:           137.52\n"
          ]
        }
      ],
      "source": [
        "print('Scores on the test dataset\\n')\n",
        "#Test set predictions\n",
        "acc_test = round(np.float64(r2_score(Y_test, y_pred) * 100), 2)\n",
        "print(f'test r2_score is:    {acc_test}%')\n",
        "print(f'test abs mean error: {round(mean_absolute_error(Y_test, y_pred), 2)}')\n",
        "print(f'test RMSE:           {round(np.sqrt(mean_squared_error(Y_test, y_pred)), 2)}')"
      ]
    },
    {
      "cell_type": "code",
      "execution_count": null,
      "metadata": {
        "colab": {
          "base_uri": "https://localhost:8080/",
          "height": 415
        },
        "id": "F0YdVF8ZQ_79",
        "outputId": "afa2d1bb-3051-4381-8940-ca0ad79d01ad"
      },
      "outputs": [
        {
          "name": "stdout",
          "output_type": "stream",
          "text": [
            "Predictions on the test dataset\n",
            "\n",
            "==========================================================\n"
          ]
        },
        {
          "data": {
            "text/html": [
              "\n",
              "  <div id=\"df-552c397e-3253-46a4-9969-0a6ffb23e07e\">\n",
              "    <div class=\"colab-df-container\">\n",
              "      <div>\n",
              "<style scoped>\n",
              "    .dataframe tbody tr th:only-of-type {\n",
              "        vertical-align: middle;\n",
              "    }\n",
              "\n",
              "    .dataframe tbody tr th {\n",
              "        vertical-align: top;\n",
              "    }\n",
              "\n",
              "    .dataframe thead th {\n",
              "        text-align: right;\n",
              "    }\n",
              "</style>\n",
              "<table border=\"1\" class=\"dataframe\">\n",
              "  <thead>\n",
              "    <tr style=\"text-align: right;\">\n",
              "      <th></th>\n",
              "      <th>Predicted Price</th>\n",
              "      <th>Actual Price</th>\n",
              "      <th>Difference</th>\n",
              "    </tr>\n",
              "  </thead>\n",
              "  <tbody>\n",
              "    <tr>\n",
              "      <th>2</th>\n",
              "      <td>364.97</td>\n",
              "      <td>420.14</td>\n",
              "      <td>0.131313</td>\n",
              "    </tr>\n",
              "    <tr>\n",
              "      <th>19</th>\n",
              "      <td>356.71</td>\n",
              "      <td>351.36</td>\n",
              "      <td>-0.015227</td>\n",
              "    </tr>\n",
              "    <tr>\n",
              "      <th>29</th>\n",
              "      <td>217.80</td>\n",
              "      <td>217.80</td>\n",
              "      <td>0.000000</td>\n",
              "    </tr>\n",
              "    <tr>\n",
              "      <th>58</th>\n",
              "      <td>356.71</td>\n",
              "      <td>351.36</td>\n",
              "      <td>-0.015227</td>\n",
              "    </tr>\n",
              "    <tr>\n",
              "      <th>59</th>\n",
              "      <td>540.00</td>\n",
              "      <td>540.00</td>\n",
              "      <td>0.000000</td>\n",
              "    </tr>\n",
              "    <tr>\n",
              "      <th>75</th>\n",
              "      <td>247.58</td>\n",
              "      <td>265.32</td>\n",
              "      <td>0.066863</td>\n",
              "    </tr>\n",
              "    <tr>\n",
              "      <th>79</th>\n",
              "      <td>531.18</td>\n",
              "      <td>531.18</td>\n",
              "      <td>0.000000</td>\n",
              "    </tr>\n",
              "    <tr>\n",
              "      <th>83</th>\n",
              "      <td>118.16</td>\n",
              "      <td>119.16</td>\n",
              "      <td>0.008392</td>\n",
              "    </tr>\n",
              "    <tr>\n",
              "      <th>84</th>\n",
              "      <td>282.85</td>\n",
              "      <td>270.00</td>\n",
              "      <td>-0.047593</td>\n",
              "    </tr>\n",
              "    <tr>\n",
              "      <th>85</th>\n",
              "      <td>668.79</td>\n",
              "      <td>669.60</td>\n",
              "      <td>0.001210</td>\n",
              "    </tr>\n",
              "  </tbody>\n",
              "</table>\n",
              "</div>\n",
              "      <button class=\"colab-df-convert\" onclick=\"convertToInteractive('df-552c397e-3253-46a4-9969-0a6ffb23e07e')\"\n",
              "              title=\"Convert this dataframe to an interactive table.\"\n",
              "              style=\"display:none;\">\n",
              "        \n",
              "  <svg xmlns=\"http://www.w3.org/2000/svg\" height=\"24px\"viewBox=\"0 0 24 24\"\n",
              "       width=\"24px\">\n",
              "    <path d=\"M0 0h24v24H0V0z\" fill=\"none\"/>\n",
              "    <path d=\"M18.56 5.44l.94 2.06.94-2.06 2.06-.94-2.06-.94-.94-2.06-.94 2.06-2.06.94zm-11 1L8.5 8.5l.94-2.06 2.06-.94-2.06-.94L8.5 2.5l-.94 2.06-2.06.94zm10 10l.94 2.06.94-2.06 2.06-.94-2.06-.94-.94-2.06-.94 2.06-2.06.94z\"/><path d=\"M17.41 7.96l-1.37-1.37c-.4-.4-.92-.59-1.43-.59-.52 0-1.04.2-1.43.59L10.3 9.45l-7.72 7.72c-.78.78-.78 2.05 0 2.83L4 21.41c.39.39.9.59 1.41.59.51 0 1.02-.2 1.41-.59l7.78-7.78 2.81-2.81c.8-.78.8-2.07 0-2.86zM5.41 20L4 18.59l7.72-7.72 1.47 1.35L5.41 20z\"/>\n",
              "  </svg>\n",
              "      </button>\n",
              "      \n",
              "  <style>\n",
              "    .colab-df-container {\n",
              "      display:flex;\n",
              "      flex-wrap:wrap;\n",
              "      gap: 12px;\n",
              "    }\n",
              "\n",
              "    .colab-df-convert {\n",
              "      background-color: #E8F0FE;\n",
              "      border: none;\n",
              "      border-radius: 50%;\n",
              "      cursor: pointer;\n",
              "      display: none;\n",
              "      fill: #1967D2;\n",
              "      height: 32px;\n",
              "      padding: 0 0 0 0;\n",
              "      width: 32px;\n",
              "    }\n",
              "\n",
              "    .colab-df-convert:hover {\n",
              "      background-color: #E2EBFA;\n",
              "      box-shadow: 0px 1px 2px rgba(60, 64, 67, 0.3), 0px 1px 3px 1px rgba(60, 64, 67, 0.15);\n",
              "      fill: #174EA6;\n",
              "    }\n",
              "\n",
              "    [theme=dark] .colab-df-convert {\n",
              "      background-color: #3B4455;\n",
              "      fill: #D2E3FC;\n",
              "    }\n",
              "\n",
              "    [theme=dark] .colab-df-convert:hover {\n",
              "      background-color: #434B5C;\n",
              "      box-shadow: 0px 1px 3px 1px rgba(0, 0, 0, 0.15);\n",
              "      filter: drop-shadow(0px 1px 2px rgba(0, 0, 0, 0.3));\n",
              "      fill: #FFFFFF;\n",
              "    }\n",
              "  </style>\n",
              "\n",
              "      <script>\n",
              "        const buttonEl =\n",
              "          document.querySelector('#df-552c397e-3253-46a4-9969-0a6ffb23e07e button.colab-df-convert');\n",
              "        buttonEl.style.display =\n",
              "          google.colab.kernel.accessAllowed ? 'block' : 'none';\n",
              "\n",
              "        async function convertToInteractive(key) {\n",
              "          const element = document.querySelector('#df-552c397e-3253-46a4-9969-0a6ffb23e07e');\n",
              "          const dataTable =\n",
              "            await google.colab.kernel.invokeFunction('convertToInteractive',\n",
              "                                                     [key], {});\n",
              "          if (!dataTable) return;\n",
              "\n",
              "          const docLinkHtml = 'Like what you see? Visit the ' +\n",
              "            '<a target=\"_blank\" href=https://colab.research.google.com/notebooks/data_table.ipynb>data table notebook</a>'\n",
              "            + ' to learn more about interactive tables.';\n",
              "          element.innerHTML = '';\n",
              "          dataTable['output_type'] = 'display_data';\n",
              "          await google.colab.output.renderOutput(dataTable, element);\n",
              "          const docLink = document.createElement('div');\n",
              "          docLink.innerHTML = docLinkHtml;\n",
              "          element.appendChild(docLink);\n",
              "        }\n",
              "      </script>\n",
              "    </div>\n",
              "  </div>\n",
              "  "
            ],
            "text/plain": [
              "    Predicted Price  Actual Price  Difference\n",
              "2            364.97        420.14    0.131313\n",
              "19           356.71        351.36   -0.015227\n",
              "29           217.80        217.80    0.000000\n",
              "58           356.71        351.36   -0.015227\n",
              "59           540.00        540.00    0.000000\n",
              "75           247.58        265.32    0.066863\n",
              "79           531.18        531.18    0.000000\n",
              "83           118.16        119.16    0.008392\n",
              "84           282.85        270.00   -0.047593\n",
              "85           668.79        669.60    0.001210"
            ]
          },
          "execution_count": 16,
          "metadata": {},
          "output_type": "execute_result"
        }
      ],
      "source": [
        "print('Predictions on the test dataset\\n')\n",
        "#Printing the results for our test dataset\n",
        "print('==========================================================')\n",
        "y_pred = np.round(np.float64(y_pred), 2)\n",
        "test_diff = (Y_test - y_pred)/Y_test\n",
        "predictions = pd.DataFrame({'Predicted Price': y_pred, 'Actual Price': Y_test, 'Difference': test_diff})\n",
        "predictions.head(10)"
      ]
    },
    {
      "cell_type": "markdown",
      "metadata": {
        "id": "t-myR3s8qsBp"
      },
      "source": [
        "## Feature Importance Plotting"
      ]
    },
    {
      "cell_type": "code",
      "execution_count": null,
      "metadata": {
        "colab": {
          "base_uri": "https://localhost:8080/",
          "height": 265
        },
        "id": "KnWnaXMpkYEL",
        "outputId": "c92bb3d9-7468-4149-bbf6-0c6c0844f538"
      },
      "outputs": [
        {
          "data": {
            "image/png": "[encoded data removed]",
            "text/plain": [
              "<Figure size 360x288 with 1 Axes>"
            ]
          },
          "metadata": {
            "needs_background": "light"
          },
          "output_type": "display_data"
        }
      ],
      "source": [
        "colors=['blue', 'orange']\n",
        "plt.subplots(figsize=(5,4))\n",
        "feat_importances = pd.Series(randf_estimator.feature_importances_, index=X_train.columns)\n",
        "feat_importances.nlargest(2).plot(kind='barh', color=colors);"
      ]
    },
    {
      "cell_type": "markdown",
      "metadata": {
        "id": "MQeRZCv_3f6a"
      },
      "source": [
        "As we can see from the plot above, the prediction was mostly influenced by the number bottles sold, then cost that state paid per bottle to the maker of the liquor.\n",
        "\n",
        "This conclude our tutorial. we can now predict with some confidence, how much a particular liquor is going to sell for at a given month of a future year"
      ]
    }
  ],
  "metadata": {
    "colab": {
      "collapsed_sections": [],
      "name": "tutorial.ipynb",
      "provenance": []
    },
    "gpuClass": "standard",
    "kernelspec": {
      "display_name": "Python 3",
      "language": "python",
      "name": "python3"
    },
    "language_info": {
      "codemirror_mode": {
        "name": "ipython",
        "version": 3
      },
      "file_extension": ".py",
      "mimetype": "text/x-python",
      "name": "python",
      "nbconvert_exporter": "python",
      "pygments_lexer": "ipython3",
      "version": "3.8.2"
    }
  },
  "nbformat": 4,
  "nbformat_minor": 0
}
