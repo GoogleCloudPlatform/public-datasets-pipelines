{
  "cells": [
    {
      "cell_type": "markdown",
      "metadata": {
        "id": "7i8lsRFe2lu5"
      },
      "source": [
        "# Overview\n",
        "\n",
        "Add a brief description of this tutorial here."
      ]
    },
    {
      "cell_type": "code",
      "execution_count": null,
      "metadata": {
        "id": "cFeLh7K7KI6B"
      },
      "outputs": [],
      "source": [
        "%%capture\n",
        "\n",
        "# Installing the required libraries:\n",
        "!pip install matplotlib pandas scikit-learn tensorflow pyarrow tqdm\n",
        "!pip install google-cloud-bigquery google-cloud-bigquery-storage\n",
        "!pip install flake8 pycodestyle pycodestyle_magic"
      ]
    },
    {
      "cell_type": "code",
      "execution_count": null,
      "metadata": {
        "id": "6_jTxerkMtkg"
      },
      "outputs": [],
      "source": [
        "# Python Builtin Libraries\n",
        "import datetime\n",
        "import json\n",
        "\n",
        "# Third Party Libraries\n",
        "import matplotlib.pyplot as plt\n",
        "import numpy as np\n",
        "import pandas as pd\n",
        "import tensorflow as tf\n",
        "from google.cloud import bigquery\n",
        "from sklearn import metrics, preprocessing\n",
        "\n",
        "# Configurations\n",
        "%matplotlib inline"
      ]
    },
    {
      "cell_type": "markdown",
      "metadata": {
        "id": "2x4wG61omjBQ"
      },
      "source": [
        "### Authentication\n",
        "In order to run this tutorial successfully, we need to be authenticated first. \n",
        "\n",
        "Depending on where we are running this notebook, the authentication steps may vary:\n",
        "\n",
        "| Runner      | Authentiction Steps |\n",
        "| ----------- | ----------- |\n",
        "| Local Computer      |  Use a service account, or run the following command: <br><br>`gcloud auth login`    |\n",
        "| Colab   | Run the following python code and follow the instructions: <br><br>`from google.colab import auth` <br> `auth.authenticate_user()     `    |\n",
        "| Vertext AI (Workbench)   | Authentication is provided by Workbench       |"
      ]
    },
    {
      "cell_type": "code",
      "execution_count": null,
      "metadata": {
        "id": "i7aszhgnkxuv",
        "colab": {
          "base_uri": "https://localhost:8080/"
        },
        "outputId": "a5b2b2f3-0748-47ad-bdb5-8682cee574e2"
      },
      "outputs": [
        {
          "output_type": "stream",
          "name": "stdout",
          "text": [
            "Authenticating in Colab\n",
            "Authenticated\n"
          ]
        }
      ],
      "source": [
        "try:\n",
        "    from google.colab import auth\n",
        "\n",
        "    print(\"Authenticating in Colab\")\n",
        "    auth.authenticate_user()\n",
        "    print(\"Authenticated\")\n",
        "except:  # noqa\n",
        "    print(\"This notebook is not running on Colab.\")\n",
        "    print(\"Please make sure to follow the authentication steps.\")"
      ]
    },
    {
      "cell_type": "markdown",
      "metadata": {
        "id": "N7qEYK98Nx89"
      },
      "source": [
        "### Configurations\n",
        "\n",
        "Let's make sure we enter the name of our GCP project in the next cell."
      ]
    },
    {
      "cell_type": "code",
      "execution_count": null,
      "metadata": {
        "id": "So_ed4wf0lKu",
        "colab": {
          "base_uri": "https://localhost:8080/"
        },
        "outputId": "31c4795c-229a-4d37-c420-2404734810bd"
      },
      "outputs": [
        {
          "output_type": "stream",
          "name": "stdout",
          "text": [
            "gcp_project is set to gcp-public-data-contributors\n"
          ]
        }
      ],
      "source": [
        "# ENTER THE GCP PROJECT HERE\n",
        "gcp_project = \"YOUR-GCP-PROJECT\" # Use gcp-public-data-contributors\n",
        "print(f\"gcp_project is set to {gcp_project}\")"
      ]
    },
    {
      "cell_type": "markdown",
      "source": [
        ""
      ],
      "metadata": {
        "id": "xhyBJNts3MHK"
      }
    },
    {
      "cell_type": "code",
      "source": [
        "def helper_function():\n",
        "    \"\"\"\n",
        "    Add a description about what this function does.\n",
        "    \"\"\"\n",
        "    return None"
      ],
      "metadata": {
        "id": "eo0IVOdr3MSU"
      },
      "execution_count": null,
      "outputs": []
    },
    {
      "cell_type": "markdown",
      "metadata": {
        "id": "UXIitTXv7IEu"
      },
      "source": [
        "## Data Preparation"
      ]
    },
    {
      "cell_type": "markdown",
      "metadata": {
        "id": "LBLKdccfZzKu"
      },
      "source": [
        "### Query the Data"
      ]
    },
    {
      "cell_type": "code",
      "execution_count": null,
      "metadata": {
        "id": "P1VfAL04kwF7"
      },
      "outputs": [],
      "source": [
        "query = \"\"\"\n",
        "  SELECT\n",
        "    created_date, category, complaint_type, neighborhood, latitude, longitude\n",
        "  FROM \n",
        "    `bigquery-public-data.san_francisco_311.311_service_requests`\n",
        "  LIMIT 1000\n",
        "\"\"\""
      ]
    },
    {
      "cell_type": "code",
      "execution_count": null,
      "metadata": {
        "id": "eoJgVS5KkwF7"
      },
      "outputs": [],
      "source": [
        "bqclient = bigquery.Client(project=gcp_project)\n",
        "dataframe = bqclient.query(query).result().to_dataframe()"
      ]
    },
    {
      "cell_type": "markdown",
      "metadata": {
        "id": "_I8mnYhOBsnr"
      },
      "source": [
        "### Check the Dataframe\n",
        "\n"
      ]
    },
    {
      "cell_type": "code",
      "execution_count": null,
      "metadata": {
        "id": "84lvVNg8odvS",
        "colab": {
          "base_uri": "https://localhost:8080/",
          "height": 224
        },
        "outputId": "bd09fc29-5373-4abd-d3b2-7bc9e3862d5c"
      },
      "outputs": [
        {
          "output_type": "stream",
          "name": "stdout",
          "text": [
            "(1000, 6)\n"
          ]
        },
        {
          "output_type": "execute_result",
          "data": {
            "text/html": [
              "\n",
              "  <div id=\"df-a8c81474-9ce4-46bb-a29d-e64cbf010ef1\">\n",
              "    <div class=\"colab-df-container\">\n",
              "      <div>\n",
              "<style scoped>\n",
              "    .dataframe tbody tr th:only-of-type {\n",
              "        vertical-align: middle;\n",
              "    }\n",
              "\n",
              "    .dataframe tbody tr th {\n",
              "        vertical-align: top;\n",
              "    }\n",
              "\n",
              "    .dataframe thead th {\n",
              "        text-align: right;\n",
              "    }\n",
              "</style>\n",
              "<table border=\"1\" class=\"dataframe\">\n",
              "  <thead>\n",
              "    <tr style=\"text-align: right;\">\n",
              "      <th></th>\n",
              "      <th>created_date</th>\n",
              "      <th>category</th>\n",
              "      <th>complaint_type</th>\n",
              "      <th>neighborhood</th>\n",
              "      <th>latitude</th>\n",
              "      <th>longitude</th>\n",
              "    </tr>\n",
              "  </thead>\n",
              "  <tbody>\n",
              "    <tr>\n",
              "      <th>0</th>\n",
              "      <td>2011-11-03 01:02:22+00:00</td>\n",
              "      <td>Street Defects</td>\n",
              "      <td>Manhole_Cover_Off</td>\n",
              "      <td>Clarendon Heights</td>\n",
              "      <td>37.757347</td>\n",
              "      <td>-122.446182</td>\n",
              "    </tr>\n",
              "    <tr>\n",
              "      <th>1</th>\n",
              "      <td>2020-08-31 08:04:00+00:00</td>\n",
              "      <td>Sewer Issues</td>\n",
              "      <td>other</td>\n",
              "      <td>Presidio Terrace</td>\n",
              "      <td>37.787070</td>\n",
              "      <td>-122.471461</td>\n",
              "    </tr>\n",
              "    <tr>\n",
              "      <th>2</th>\n",
              "      <td>2013-12-17 08:22:12+00:00</td>\n",
              "      <td>Damaged Property</td>\n",
              "      <td>Damaged Traffic_Signal</td>\n",
              "      <td>Merced Manor</td>\n",
              "      <td>37.734705</td>\n",
              "      <td>-122.471569</td>\n",
              "    </tr>\n",
              "    <tr>\n",
              "      <th>3</th>\n",
              "      <td>2016-05-26 07:12:18+00:00</td>\n",
              "      <td>Abandoned Vehicle</td>\n",
              "      <td>Abandoned Vehicle - PickupTruck</td>\n",
              "      <td>Upper Market</td>\n",
              "      <td>37.749161</td>\n",
              "      <td>-122.442596</td>\n",
              "    </tr>\n",
              "    <tr>\n",
              "      <th>4</th>\n",
              "      <td>2015-12-04 12:06:42+00:00</td>\n",
              "      <td>Streetlights</td>\n",
              "      <td>Streetlight - Light_Flickering_On_Off</td>\n",
              "      <td>Aquatic Park / Ft. Mason</td>\n",
              "      <td>37.805557</td>\n",
              "      <td>-122.425240</td>\n",
              "    </tr>\n",
              "  </tbody>\n",
              "</table>\n",
              "</div>\n",
              "      <button class=\"colab-df-convert\" onclick=\"convertToInteractive('df-a8c81474-9ce4-46bb-a29d-e64cbf010ef1')\"\n",
              "              title=\"Convert this dataframe to an interactive table.\"\n",
              "              style=\"display:none;\">\n",
              "        \n",
              "  <svg xmlns=\"http://www.w3.org/2000/svg\" height=\"24px\"viewBox=\"0 0 24 24\"\n",
              "       width=\"24px\">\n",
              "    <path d=\"M0 0h24v24H0V0z\" fill=\"none\"/>\n",
              "    <path d=\"M18.56 5.44l.94 2.06.94-2.06 2.06-.94-2.06-.94-.94-2.06-.94 2.06-2.06.94zm-11 1L8.5 8.5l.94-2.06 2.06-.94-2.06-.94L8.5 2.5l-.94 2.06-2.06.94zm10 10l.94 2.06.94-2.06 2.06-.94-2.06-.94-.94-2.06-.94 2.06-2.06.94z\"/><path d=\"M17.41 7.96l-1.37-1.37c-.4-.4-.92-.59-1.43-.59-.52 0-1.04.2-1.43.59L10.3 9.45l-7.72 7.72c-.78.78-.78 2.05 0 2.83L4 21.41c.39.39.9.59 1.41.59.51 0 1.02-.2 1.41-.59l7.78-7.78 2.81-2.81c.8-.78.8-2.07 0-2.86zM5.41 20L4 18.59l7.72-7.72 1.47 1.35L5.41 20z\"/>\n",
              "  </svg>\n",
              "      </button>\n",
              "      \n",
              "  <style>\n",
              "    .colab-df-container {\n",
              "      display:flex;\n",
              "      flex-wrap:wrap;\n",
              "      gap: 12px;\n",
              "    }\n",
              "\n",
              "    .colab-df-convert {\n",
              "      background-color: #E8F0FE;\n",
              "      border: none;\n",
              "      border-radius: 50%;\n",
              "      cursor: pointer;\n",
              "      display: none;\n",
              "      fill: #1967D2;\n",
              "      height: 32px;\n",
              "      padding: 0 0 0 0;\n",
              "      width: 32px;\n",
              "    }\n",
              "\n",
              "    .colab-df-convert:hover {\n",
              "      background-color: #E2EBFA;\n",
              "      box-shadow: 0px 1px 2px rgba(60, 64, 67, 0.3), 0px 1px 3px 1px rgba(60, 64, 67, 0.15);\n",
              "      fill: #174EA6;\n",
              "    }\n",
              "\n",
              "    [theme=dark] .colab-df-convert {\n",
              "      background-color: #3B4455;\n",
              "      fill: #D2E3FC;\n",
              "    }\n",
              "\n",
              "    [theme=dark] .colab-df-convert:hover {\n",
              "      background-color: #434B5C;\n",
              "      box-shadow: 0px 1px 3px 1px rgba(0, 0, 0, 0.15);\n",
              "      filter: drop-shadow(0px 1px 2px rgba(0, 0, 0, 0.3));\n",
              "      fill: #FFFFFF;\n",
              "    }\n",
              "  </style>\n",
              "\n",
              "      <script>\n",
              "        const buttonEl =\n",
              "          document.querySelector('#df-a8c81474-9ce4-46bb-a29d-e64cbf010ef1 button.colab-df-convert');\n",
              "        buttonEl.style.display =\n",
              "          google.colab.kernel.accessAllowed ? 'block' : 'none';\n",
              "\n",
              "        async function convertToInteractive(key) {\n",
              "          const element = document.querySelector('#df-a8c81474-9ce4-46bb-a29d-e64cbf010ef1');\n",
              "          const dataTable =\n",
              "            await google.colab.kernel.invokeFunction('convertToInteractive',\n",
              "                                                     [key], {});\n",
              "          if (!dataTable) return;\n",
              "\n",
              "          const docLinkHtml = 'Like what you see? Visit the ' +\n",
              "            '<a target=\"_blank\" href=https://colab.research.google.com/notebooks/data_table.ipynb>data table notebook</a>'\n",
              "            + ' to learn more about interactive tables.';\n",
              "          element.innerHTML = '';\n",
              "          dataTable['output_type'] = 'display_data';\n",
              "          await google.colab.output.renderOutput(dataTable, element);\n",
              "          const docLink = document.createElement('div');\n",
              "          docLink.innerHTML = docLinkHtml;\n",
              "          element.appendChild(docLink);\n",
              "        }\n",
              "      </script>\n",
              "    </div>\n",
              "  </div>\n",
              "  "
            ],
            "text/plain": [
              "               created_date           category  ...   latitude   longitude\n",
              "0 2011-11-03 01:02:22+00:00     Street Defects  ...  37.757347 -122.446182\n",
              "1 2020-08-31 08:04:00+00:00       Sewer Issues  ...  37.787070 -122.471461\n",
              "2 2013-12-17 08:22:12+00:00   Damaged Property  ...  37.734705 -122.471569\n",
              "3 2016-05-26 07:12:18+00:00  Abandoned Vehicle  ...  37.749161 -122.442596\n",
              "4 2015-12-04 12:06:42+00:00       Streetlights  ...  37.805557 -122.425240\n",
              "\n",
              "[5 rows x 6 columns]"
            ]
          },
          "metadata": {},
          "execution_count": 12
        }
      ],
      "source": [
        "print(dataframe.shape)\n",
        "dataframe.head()"
      ]
    }
  ],
  "metadata": {
    "colab": {
      "collapsed_sections": [],
      "name": "Cloud Datasets - Tutorial Template",
      "provenance": []
    },
    "kernelspec": {
      "display_name": "Python 3",
      "language": "python",
      "name": "python3"
    },
    "language_info": {
      "codemirror_mode": {
        "name": "ipython",
        "version": 3
      },
      "file_extension": ".py",
      "mimetype": "text/x-python",
      "name": "python",
      "nbconvert_exporter": "python",
      "pygments_lexer": "ipython3",
      "version": "3.8.2"
    }
  },
  "nbformat": 4,
  "nbformat_minor": 0
}